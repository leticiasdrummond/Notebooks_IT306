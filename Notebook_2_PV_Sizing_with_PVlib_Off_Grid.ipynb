{
  "nbformat": 4,
  "nbformat_minor": 0,
  "metadata": {
    "colab": {
      "provenance": []
    },
    "kernelspec": {
      "name": "python3",
      "display_name": "Python 3"
    },
    "language_info": {
      "name": "python"
    }
  },
  "cells": [
    {
      "cell_type": "code",
      "source": [
        "!pip install pvlib"
      ],
      "metadata": {
        "colab": {
          "base_uri": "https://localhost:8080/"
        },
        "id": "J6YaRiUtGgCu",
        "outputId": "0ab481cd-e65c-487f-d42f-f474552860f6"
      },
      "execution_count": null,
      "outputs": [
        {
          "output_type": "stream",
          "name": "stdout",
          "text": [
            "Collecting pvlib\n",
            "  Downloading pvlib-0.12.0-py3-none-any.whl.metadata (2.9 kB)\n",
            "Requirement already satisfied: numpy>=1.19.3 in /usr/local/lib/python3.11/dist-packages (from pvlib) (2.0.2)\n",
            "Requirement already satisfied: pandas>=1.3.0 in /usr/local/lib/python3.11/dist-packages (from pvlib) (2.2.2)\n",
            "Requirement already satisfied: pytz in /usr/local/lib/python3.11/dist-packages (from pvlib) (2025.1)\n",
            "Requirement already satisfied: requests in /usr/local/lib/python3.11/dist-packages (from pvlib) (2.32.3)\n",
            "Requirement already satisfied: scipy>=1.6.0 in /usr/local/lib/python3.11/dist-packages (from pvlib) (1.14.1)\n",
            "Requirement already satisfied: h5py in /usr/local/lib/python3.11/dist-packages (from pvlib) (3.13.0)\n",
            "Requirement already satisfied: python-dateutil>=2.8.2 in /usr/local/lib/python3.11/dist-packages (from pandas>=1.3.0->pvlib) (2.8.2)\n",
            "Requirement already satisfied: tzdata>=2022.7 in /usr/local/lib/python3.11/dist-packages (from pandas>=1.3.0->pvlib) (2025.1)\n",
            "Requirement already satisfied: charset-normalizer<4,>=2 in /usr/local/lib/python3.11/dist-packages (from requests->pvlib) (3.4.1)\n",
            "Requirement already satisfied: idna<4,>=2.5 in /usr/local/lib/python3.11/dist-packages (from requests->pvlib) (3.10)\n",
            "Requirement already satisfied: urllib3<3,>=1.21.1 in /usr/local/lib/python3.11/dist-packages (from requests->pvlib) (2.3.0)\n",
            "Requirement already satisfied: certifi>=2017.4.17 in /usr/local/lib/python3.11/dist-packages (from requests->pvlib) (2025.1.31)\n",
            "Requirement already satisfied: six>=1.5 in /usr/local/lib/python3.11/dist-packages (from python-dateutil>=2.8.2->pandas>=1.3.0->pvlib) (1.17.0)\n",
            "Downloading pvlib-0.12.0-py3-none-any.whl (19.3 MB)\n",
            "\u001b[2K   \u001b[90m━━━━━━━━━━━━━━━━━━━━━━━━━━━━━━━━━━━━━━━━\u001b[0m \u001b[32m19.3/19.3 MB\u001b[0m \u001b[31m53.1 MB/s\u001b[0m eta \u001b[36m0:00:00\u001b[0m\n",
            "\u001b[?25hInstalling collected packages: pvlib\n",
            "Successfully installed pvlib-0.12.0\n"
          ]
        }
      ]
    },
    {
      "cell_type": "code",
      "execution_count": null,
      "metadata": {
        "colab": {
          "base_uri": "https://localhost:8080/"
        },
        "id": "ThenaxAEF99u",
        "outputId": "53647b91-15f8-46b4-c4a6-390af55f359d"
      },
      "outputs": [
        {
          "output_type": "stream",
          "name": "stdout",
          "text": [
            "Consumo diário estimado: 9050.00 Wh/dia\n",
            "Número de módulos FV necessários: 8.0\n",
            "Capacidade do banco de baterias (com DoD de 30%): 2394.18 Ah\n",
            "Número de baterias de 200Ah necessárias: 12.0\n",
            "Potência mínima do inversor: 6215.00 W\n"
          ]
        }
      ],
      "source": [
        "import pandas as pd\n",
        "import numpy as np\n",
        "import pvlib\n",
        "\n",
        "# ---------------------------\n",
        "# 1. Cálculo da Carga Elétrica\n",
        "# ---------------------------\n",
        "equipamentos = {\n",
        "    'Equipamento': ['Lâmpada', 'Geladeira', 'Televisão', 'Ventilador', 'Chuveiro', 'Máquina de Lavar', 'Computador', 'Micro-ondas'],\n",
        "    'Potência (W)': [15, 150, 100, 50, 4000, 500, 200, 1200],\n",
        "    'Quantidade': [10, 1, 3, 3, 1, 1, 1, 1],\n",
        "    'Horas de Uso': [5, 10, 4, 8, 0.5, 2, 4, 0.5],\n",
        "    'Turno de Uso': ['Noite', 'Dia e Noite', 'Noite', 'Noite', 'Dia', 'Dia', 'Dia e Noite', 'Dia']\n",
        "}\n",
        "\n",
        "df = pd.DataFrame(equipamentos)\n",
        "df['Energia (Wh/dia)'] = df['Potência (W)'] * df['Quantidade'] * df['Horas de Uso']\n",
        "energia_total_diaria = df['Energia (Wh/dia)'].sum()\n",
        "\n",
        "# Considerando 2 dias de autonomia\n",
        "energia_total_sistema = energia_total_diaria * 2\n",
        "\n",
        "# ---------------------------\n",
        "# 2. Simulação de Geração Fotovoltaica com PVWatts\n",
        "# ---------------------------\n",
        "# Definições da localização (exemplo: São Paulo)\n",
        "localizacao = pvlib.location.Location(\n",
        "    latitude=-23.5505,\n",
        "    longitude=-46.6333,\n",
        "    tz=\"America/Sao_Paulo\"\n",
        ")\n",
        "\n",
        "# Parâmetros do módulo FV\n",
        "potencia_modulo = 300  # Wp por módulo FV\n",
        "eficiencia_sistema = 0.75  # Perdas do sistema\n",
        "\n",
        "# Criando uma série de tempo para um dia inteiro (hora a hora)\n",
        "times = pd.date_range(\"2024-06-01\", periods=24, freq=\"h\", tz=localizacao.tz)\n",
        "\n",
        "# Obtendo irradiação horária usando modelo de céu limpo\n",
        "meteo = localizacao.get_clearsky(times)\n",
        "irradiacao_ghi = meteo[\"ghi\"]  # Global Horizontal Irradiance (W/m²)\n",
        "\n",
        "# Obtendo posição solar para calcular ângulos\n",
        "solpos = pvlib.solarposition.get_solarposition(times, localizacao.latitude, localizacao.longitude)\n",
        "\n",
        "# Convertendo GHI para POA (Plano dos Módulos FV)\n",
        "# Assumindo inclinação de 20° e azimute voltado para o Norte (0°)\n",
        "poa_irrad = pvlib.irradiance.get_total_irradiance(\n",
        "    surface_tilt=20,\n",
        "    surface_azimuth=0,\n",
        "    dni=meteo[\"dni\"],\n",
        "    ghi=meteo[\"ghi\"],\n",
        "    dhi=meteo[\"dhi\"],\n",
        "    solar_zenith=solpos[\"zenith\"],\n",
        "    solar_azimuth=solpos[\"azimuth\"]\n",
        ")\n",
        "\n",
        "# Estimando temperatura da célula FV (método SAPM)\n",
        "temp_ambiente = 25  # Supondo temperatura ambiente de 25°C\n",
        "wind_speed = 1  # Velocidade do vento em m/s\n",
        "\n",
        "temp_celula = pvlib.temperature.sapm_cell(\n",
        "    poa_irrad[\"poa_global\"],\n",
        "    temp_air=temp_ambiente,\n",
        "    wind_speed=wind_speed,\n",
        "    a=-3.47, b=-0.0594, deltaT=3\n",
        ")\n",
        "\n",
        "# Usando a irradiação corrigida no plano dos módulos (POA)\n",
        "pvwatts_potencia = pvlib.pvsystem.pvwatts_dc(\n",
        "    poa_irrad[\"poa_global\"],  # POA (Plano do Módulo)\n",
        "    pdc0=potencia_modulo,\n",
        "    temp_cell=temp_celula,  # Temperatura da célula FV\n",
        "    gamma_pdc=-0.004  # Coeficiente de temperatura\n",
        ") * eficiencia_sistema\n",
        "\n",
        "# Energia diária gerada por um módulo FV (soma das potências horárias)\n",
        "energia_gerada_modulo = pvwatts_potencia.sum()  # Wh/dia\n",
        "\n",
        "# Número de módulos FV necessários\n",
        "num_modulos = np.ceil(energia_total_diaria / energia_gerada_modulo)\n",
        "\n",
        "# ---------------------------\n",
        "# 3. Dimensionamento do Banco de Baterias\n",
        "# ---------------------------\n",
        "tensao_bateria = 12  # Sistema de 12V\n",
        "dod = 0.3  # 30% DoD (ou seja, 70% utilizável)\n",
        "eficiencia_bateria = 0.9  # Eficiência do banco de baterias\n",
        "\n",
        "# Capacidade necessária considerando DoD\n",
        "capacidade_bateria_Ah = (energia_total_sistema / (tensao_bateria * eficiencia_bateria * (1 - dod)))\n",
        "\n",
        "# Número de baterias (considerando baterias de 200Ah)\n",
        "num_baterias = np.ceil(capacidade_bateria_Ah / 200)\n",
        "\n",
        "# ---------------------------\n",
        "# 4. Dimensionamento do Inversor\n",
        "# ---------------------------\n",
        "potencia_pico = df['Potência (W)'].sum()\n",
        "potencia_inversor = potencia_pico\n",
        "#Incrementar o calculo da potência de surto\n",
        "\n",
        "# ---------------------------\n",
        "# 5. Exibir os Resultados\n",
        "# ---------------------------\n",
        "print(f\"Consumo diário estimado: {energia_total_diaria:.2f} Wh/dia\")\n",
        "print(f\"Número de módulos FV necessários: {num_modulos}\")\n",
        "print(f\"Capacidade do banco de baterias (com DoD de 30%): {capacidade_bateria_Ah:.2f} Ah\")\n",
        "print(f\"Número de baterias de 200Ah necessárias: {num_baterias}\")\n",
        "print(f\"Potência mínima do inversor: {potencia_inversor:.2f} W\")\n"
      ]
    }
  ]
}
