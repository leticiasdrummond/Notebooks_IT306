{
  "nbformat": 4,
  "nbformat_minor": 0,
  "metadata": {
    "colab": {
      "provenance": []
    },
    "kernelspec": {
      "name": "python3",
      "display_name": "Python 3"
    },
    "language_info": {
      "name": "python"
    }
  },
  "cells": [
    {
      "cell_type": "code",
      "execution_count": null,
      "metadata": {
        "colab": {
          "base_uri": "https://localhost:8080/"
        },
        "id": "fIcOhygNrbVH",
        "outputId": "e98b6cd6-deaa-4f92-86f5-306069618add"
      },
      "outputs": [
        {
          "output_type": "stream",
          "name": "stdout",
          "text": [
            "        Equipamento Potência (W) Quantidade Horas de Uso Turno de Uso  \\\n",
            "0           Lâmpada           15         10          5.0        Noite   \n",
            "1         Geladeira          150          1         10.0  Dia e Noite   \n",
            "2         Televisão          100          3          4.0        Noite   \n",
            "3        Ventilador           50          3          8.0        Noite   \n",
            "4          Chuveiro         4000          1          0.5          Dia   \n",
            "5  Máquina de Lavar          500          1          2.0          Dia   \n",
            "6        Computador          200          1          4.0  Dia e Noite   \n",
            "7       Micro-ondas         1200          1          0.5          Dia   \n",
            "8     Energia Total                                                     \n",
            "\n",
            "   Energia (Wh/dia)  \n",
            "0             750.0  \n",
            "1            1500.0  \n",
            "2            1200.0  \n",
            "3            1200.0  \n",
            "4            2000.0  \n",
            "5            1000.0  \n",
            "6             800.0  \n",
            "7             600.0  \n",
            "8            9050.0  \n"
          ]
        }
      ],
      "source": [
        "import pandas as pd\n",
        "\n",
        "# Equipamentos utilizados, para alterar é só olhar a respectiva coluna\n",
        "equipamentos = {\n",
        "    'Equipamento': ['Lâmpada', 'Geladeira', 'Televisão', 'Ventilador', 'Chuveiro', 'Máquina de Lavar', 'Computador', 'Micro-ondas'],\n",
        "    'Potência (W)': [15, 150, 100, 50, 4000, 500, 200, 1200],\n",
        "    'Quantidade': [10, 1, 3, 3, 1, 1, 1, 1],\n",
        "    'Horas de Uso': [5, 10, 4, 8, 0.5, 2, 4, 0.5],\n",
        "    'Turno de Uso': ['Noite', 'Dia e Noite', 'Noite', 'Noite', 'Dia', 'Dia', 'Dia e Noite', 'Dia']\n",
        "}\n",
        "\n",
        "\n",
        "df = pd.DataFrame(equipamentos)\n",
        "# Energia consumida por equipamento (Potência * Quantidade * Horas de Uso)\n",
        "df['Energia (Wh/dia)'] = df['Potência (W)'] * df['Quantidade'] * df['Horas de Uso']\n",
        "\n",
        "# Calculando a energia total\n",
        "energia_total = df['Energia (Wh/dia)'].sum()\n",
        "\n",
        "# Adicionando uma linha com o total da energia consumida\n",
        "df_total = pd.DataFrame({\n",
        "    'Equipamento': ['Energia Total'],\n",
        "    'Potência (W)': [''],\n",
        "    'Quantidade': [''],\n",
        "    'Horas de Uso': [''],\n",
        "    'Turno de Uso': [''],\n",
        "    'Energia (Wh/dia)': [energia_total]\n",
        "})\n",
        "\n",
        "# Criando e Exibindo Tabela\n",
        "df = pd.concat([df, df_total], ignore_index=True)\n",
        "print(df)\n"
      ]
    },
    {
      "cell_type": "code",
      "source": [
        "\n",
        "irradiancia_diaria = 4.5  # kWh/m²dia\n",
        "fp = 0.75  # Fator de performance (Perdas)\n",
        "\n",
        "# Calculando a energia anual (em Wh)\n",
        "energia_anual = energia_total * 365  # Wh/ano\n",
        "\n",
        "# Convertendo energia anual para kWh\n",
        "energia_anual_kWh = energia_anual / 1000  # kWh/ano\n",
        "\n",
        "# Calculando a potência necessária do sistema fotovoltaico\n",
        "potencia_fv = (energia_anual_kWh / (irradiancia_diaria * 365)) / fp  # kWp\n",
        "\n",
        "# O kit fotovoltaico deve ser:\n",
        "print(f\"Energia Anual: {energia_anual_kWh:.2f} kWh\")\n",
        "print(f\"Potência necessária do sistema FV: {potencia_fv:.2f} kWp\")\n"
      ],
      "metadata": {
        "colab": {
          "base_uri": "https://localhost:8080/"
        },
        "id": "juSKefxLuhpt",
        "outputId": "006c7ce8-7555-4949-efa0-dc1c3ed5769e"
      },
      "execution_count": null,
      "outputs": [
        {
          "output_type": "stream",
          "name": "stdout",
          "text": [
            "Energia Anual: 3303.25 kWh\n",
            "Potência necessária do sistema FV: 2.68 kWp\n"
          ]
        }
      ]
    },
    {
      "cell_type": "code",
      "source": [
        "# Fator de Simultaneidade\n",
        "\n",
        "# Separando o consumo diurno e noturno\n",
        "df['Consumo Noturno (Wh/dia)'] = df.apply(\n",
        "    lambda row: row['Energia (Wh/dia)'] if row['Turno de Uso'] == 'Noite'\n",
        "    else row['Energia (Wh/dia)'] / 2 if row['Turno de Uso'] == 'Dia e Noite'\n",
        "    else 0, axis=1)\n",
        "\n",
        "df['Consumo Diurno (Wh/dia)'] = df.apply(\n",
        "    lambda row: row['Energia (Wh/dia)'] if row['Turno de Uso'] == 'Dia'\n",
        "    else row['Energia (Wh/dia)'] / 2 if row['Turno de Uso'] == 'Dia e Noite'\n",
        "    else 0, axis=1)\n",
        "\n",
        "# Calculando o consumo total noturno e diurno\n",
        "consumo_noturno_total = df['Consumo Noturno (Wh/dia)'].sum()\n",
        "consumo_diurno_total = df['Consumo Diurno (Wh/dia)'].sum()\n",
        "\n",
        "# Calculando o percentual de consumo noturno em relação ao total\n",
        "percentual_noturno = (consumo_noturno_total / energia_total) * 100\n",
        "percentual_diurno = (consumo_diurno_total / energia_total) * 100\n",
        "\n",
        "print(f\"Consumo Noturno Total: {consumo_noturno_total:.2f} Wh/dia\")\n",
        "print(f\"Consumo Diurno Total: {consumo_diurno_total:.2f} Wh/dia\")\n",
        "print(f\"Percentual de Consumo Noturno: {percentual_noturno:.2f}%\")\n",
        "print(f\"Percentual de Consumo Diurno: {percentual_diurno:.2f}%\")\n"
      ],
      "metadata": {
        "colab": {
          "base_uri": "https://localhost:8080/"
        },
        "id": "AzhPcmYyw1vk",
        "outputId": "1bb41229-8e38-4a07-ca5d-ff89d8519c02"
      },
      "execution_count": null,
      "outputs": [
        {
          "output_type": "stream",
          "name": "stdout",
          "text": [
            "Consumo Noturno Total: 4300.00 Wh/dia\n",
            "Consumo Diurno Total: 4750.00 Wh/dia\n",
            "Percentual de Consumo Noturno: 47.51%\n",
            "Percentual de Consumo Diurno: 52.49%\n"
          ]
        }
      ]
    }
  ]
}
