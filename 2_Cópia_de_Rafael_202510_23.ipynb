{
  "nbformat": 4,
  "nbformat_minor": 0,
  "metadata": {
    "colab": {
      "provenance": [],
      "history_visible": true,
      "authorship_tag": "ABX9TyNJzVJXxYvLeScWnyZ7w2Nz",
      "include_colab_link": true
    },
    "kernelspec": {
      "name": "python3",
      "display_name": "Python 3"
    },
    "language_info": {
      "name": "python"
    }
  },
  "cells": [
    {
      "cell_type": "markdown",
      "metadata": {
        "id": "view-in-github",
        "colab_type": "text"
      },
      "source": [
        "<a href=\"https://colab.research.google.com/github/leticiasdrummond/Notebooks_IT306/blob/main/2_C%C3%B3pia_de_Rafael_202510_23.ipynb\" target=\"_parent\"><img src=\"https://colab.research.google.com/assets/colab-badge.svg\" alt=\"Open In Colab\"/></a>"
      ]
    },
    {
      "cell_type": "code",
      "execution_count": null,
      "metadata": {
        "id": "Bv5fji_hvzwW"
      },
      "outputs": [],
      "source": [
        "# @title\n"
      ]
    },
    {
      "cell_type": "markdown",
      "source": [
        "\n",
        "\n",
        "> Compartilhado direcionamente por Rafael para Letícia em 23102025, em interacao no LEPO. Link: https://colab.research.google.com/drive/1LI4Ghk8tOItDI4pP7Y7nOwVmDJuURgrh?usp=sharing\n",
        "\n",
        "\n",
        "\n",
        "Respeito, referencia e trocando figurinhas!"
      ],
      "metadata": {
        "id": "jotCn9alwAhW"
      }
    },
    {
      "cell_type": "markdown",
      "source": [
        "##IT306 - Energia Solar Fotovoltaica 2.2025\n",
        "\n",
        "Grupo:\n",
        "*   Rafael Cesar Veronez Oleto  **RA:299011**\n",
        "*   Luciano Cardoso Ferreira Filho **RA:240276**\n",
        "*   Rafael Cristian Nascimento **RA:223622**\n"
      ],
      "metadata": {
        "id": "VUicIxjLHuKe"
      }
    },
    {
      "cell_type": "markdown",
      "source": [
        "ID da estação solarimetrica : **UNLV**                                                                                                                                                             \n",
        "\n",
        "https://solarstations.org/station_network_midc.html"
      ],
      "metadata": {
        "id": "ATRdkV5GdWbU"
      }
    },
    {
      "cell_type": "markdown",
      "source": [
        "Função do PVLIB: **pvlib.iotools.read_midc_raw_data_from_nrel**"
      ],
      "metadata": {
        "id": "nbtG4XsEH1BW"
      }
    },
    {
      "cell_type": "markdown",
      "source": [
        "##importar as biblotecas do **PVLIB**"
      ],
      "metadata": {
        "id": "NEEMnN1MH5rV"
      }
    },
    {
      "cell_type": "code",
      "source": [
        "# @title\n",
        "!pip install pvlib"
      ],
      "metadata": {
        "id": "pX_dPu1oH2lm",
        "cellView": "form",
        "collapsed": true
      },
      "execution_count": null,
      "outputs": []
    },
    {
      "cell_type": "code",
      "source": [
        "# @title\n",
        "import pvlib\n",
        "from pvlib import location\n",
        "from pvlib import pvsystem\n",
        "from pvlib import tools\n",
        "from pvlib.pvsystem import retrieve_sam\n",
        "import folium\n",
        "import pandas as pd\n",
        "import matplotlib.pyplot as plt\n",
        "from sklearn.metrics import r2_score\n",
        "from scipy.constants import Boltzmann, elementary_charge\n",
        "import numpy as np\n",
        "from pvlib import irradiance\n",
        "from pvlib.iam import physical"
      ],
      "metadata": {
        "id": "-isbKDbuH8z-",
        "cellView": "form"
      },
      "execution_count": null,
      "outputs": []
    },
    {
      "cell_type": "markdown",
      "source": [
        "##***LOCALIZAÇÃO*** - definindo latitude, longitude,"
      ],
      "metadata": {
        "id": "RllF6garQHi3"
      }
    },
    {
      "cell_type": "code",
      "source": [
        "# @title\n",
        "# --------------------------------------------\n",
        "# 1) Definições do local e horário\n",
        "# --------------------------------------------\n",
        "latitude = 36.107        # Latitude de Las Vegas\n",
        "longitude = -115.1425    # Longitude de Las Vegas\n",
        "altitude = 615           # Altitude do local\n",
        "tz = 'America/Los_Angeles'  # Fuso horário local correto\n",
        "\n",
        "# Criar um mapa interativo centralizado na localização\n",
        "mapa = folium.Map(\n",
        "    location=[latitude, longitude],\n",
        "    zoom_start=12,\n",
        "    tiles='OpenStreetMap'  # Tipo de mapa\n",
        ")\n",
        "\n",
        "# Adicionar um marcador no mapa\n",
        "folium.Marker(\n",
        "    [latitude, longitude],\n",
        "    popup=\"Localização selecionada\",\n",
        "    icon=folium.Icon(color='green', icon='info-sign')\n",
        ").add_to(mapa)\n",
        "\n",
        "# Exibir o mapa\n",
        "mapa"
      ],
      "metadata": {
        "id": "6XPa-TlvPwry",
        "cellView": "form",
        "collapsed": true
      },
      "execution_count": null,
      "outputs": []
    },
    {
      "cell_type": "markdown",
      "source": [
        "# Importando dados da estação solarimetrica **#Universidade de Nevada - Las Vegas**"
      ],
      "metadata": {
        "id": "mhpMKqxpP-bI"
      }
    },
    {
      "cell_type": "code",
      "source": [
        "# @title\n",
        "#Import Data\n",
        "#Localização da Universidade de Nevada - Las Vegas\n",
        "\n",
        "df_weather = pvlib.iotools.read_midc_raw_data_from_nrel('UNLV',               # ID da estação\n",
        "                                                    pd.Timestamp('20190101'),   # data de inicio YYYYMMDD\n",
        "                                                    pd.Timestamp('20211231'))   # data de termino  YYYYMMDD\n",
        "\n",
        "df_weather.head(100)"
      ],
      "metadata": {
        "id": "0kHXO9qBP3sd",
        "cellView": "form",
        "collapsed": true
      },
      "execution_count": null,
      "outputs": []
    },
    {
      "cell_type": "code",
      "source": [
        "# @title\n",
        "df_weather.keys()"
      ],
      "metadata": {
        "id": "JBkRKsr-QQh1",
        "cellView": "form",
        "collapsed": true
      },
      "execution_count": null,
      "outputs": []
    },
    {
      "cell_type": "code",
      "source": [
        "# @title\n",
        "# Selecionar as colunas de interesse\n",
        "df_weather = df_weather[['Global Horiz [W/m^2]',   # GHI - Global Horizontal Irradiance\n",
        "                 'Diffuse Horiz (calc) [W/m^2]',   # DHI - Diffuse Horizontal Irradiance\n",
        "                 'Direct Normal [W/m^2]',          # DNI - Direct Normal Irradiance\n",
        "                 'Dry Bulb Temp [deg C]',          # Temperatura do ar\n",
        "                 'Avg Wind Speed @ 30ft [m/s]',    # Velocidade do vento\n",
        "                                     'Airmass',    # massa de ar\n",
        "                      'Zenith Angle [degrees]']]   # Ângulo zenital\n",
        "\n",
        "# Renomear as colunas\n",
        "df_weather.columns = ['ghi', 'dhi', 'dni', 'temp_air', 'wind_speed', 'air_pressure', 'teta_z']\n",
        "\n",
        "# Visualizar as primeiras linhas\n",
        "print(df_weather.head())\n"
      ],
      "metadata": {
        "id": "Pw0VMHriQSMI",
        "cellView": "form",
        "collapsed": true
      },
      "execution_count": null,
      "outputs": []
    },
    {
      "cell_type": "code",
      "source": [
        "# @title\n",
        "print(df_weather.head())\n",
        "# Ou verificar se ainda há valores negativos\n",
        "print((df_weather[['ghi', 'dhi', 'dni']] < 0).any())"
      ],
      "metadata": {
        "id": "aoBecKPJQV2o",
        "cellView": "form",
        "collapsed": true
      },
      "execution_count": null,
      "outputs": []
    },
    {
      "cell_type": "markdown",
      "source": [
        "analisando os dados obtidos parecem ter dados negativos no periodo noturno para evitar que isso exista vamos trocar os valores <= 0 para 0"
      ],
      "metadata": {
        "id": "wBLcGnslQYwn"
      }
    },
    {
      "cell_type": "code",
      "source": [
        "# @title\n",
        "# Substituir valores <= 0 por 0 nas colunas relevantes\n",
        "cols_to_replace = ['ghi', 'dhi', 'dni']  # colunas de irradiação solar\n",
        "df_weather[cols_to_replace] = df_weather[cols_to_replace].apply(lambda x: x.where(x > 0, 0))"
      ],
      "metadata": {
        "id": "sheAJshVQYav",
        "cellView": "form"
      },
      "execution_count": null,
      "outputs": []
    },
    {
      "cell_type": "markdown",
      "source": [
        "Aplicando a função resample para converter os dados de 1 em 1 minuto para dados horários e atribuindo à uma nova variável"
      ],
      "metadata": {
        "id": "gYvnnT7DTbbR"
      }
    },
    {
      "cell_type": "code",
      "source": [
        "# @title\n",
        "df_weather.Diario = ['ghi', 'dhi', 'dni']\n",
        "df_weather_horário = df_weather.resample('H').mean()"
      ],
      "metadata": {
        "id": "ooYUCbo7S-Mj",
        "cellView": "form",
        "collapsed": true
      },
      "execution_count": null,
      "outputs": []
    },
    {
      "cell_type": "markdown",
      "source": [
        "Convertendo de dados horários para diários"
      ],
      "metadata": {
        "id": "Ay3YFtpKTeK5"
      }
    },
    {
      "cell_type": "code",
      "source": [
        "# @title\n",
        "df_weather_horário['ghi'].resample('D').sum().plot(figsize=(20,6))"
      ],
      "metadata": {
        "id": "NQoC8pixThjG",
        "cellView": "form",
        "collapsed": true
      },
      "execution_count": null,
      "outputs": []
    },
    {
      "cell_type": "markdown",
      "source": [
        "# Importando dados satelite **PVGIS**"
      ],
      "metadata": {
        "id": "FrLxyCWnNlur"
      }
    },
    {
      "cell_type": "code",
      "source": [
        "# @title\n",
        "start = 2019\n",
        "end = 2021\n",
        "\n",
        "pvgis_dataset_ghi_3Y, metadata2021 = pvlib.iotools.get_pvgis_hourly(latitude, longitude, start, end,\n",
        "                               raddatabase='PVGIS-ERA5', components=False, surface_tilt=0,\n",
        "                               surface_azimuth=0, outputformat='json', usehorizon=True,\n",
        "                               userhorizon=None, pvcalculation=False, peakpower=None,\n",
        "                               pvtechchoice='crystSi', mountingplace='free', loss=0,\n",
        "                               trackingtype=0, optimal_surface_tilt=False, optimalangles=False,\n",
        "                               url='https://re.jrc.ec.europa.eu/api/', map_variables=True, timeout=30)"
      ],
      "metadata": {
        "id": "P0wxIknLJ5wI",
        "cellView": "form"
      },
      "execution_count": null,
      "outputs": []
    },
    {
      "cell_type": "code",
      "source": [
        "# @title\n",
        "pvgis_dataset_ghi_3Y"
      ],
      "metadata": {
        "id": "B-CMA5aVSpQQ",
        "cellView": "form",
        "collapsed": true
      },
      "execution_count": null,
      "outputs": []
    },
    {
      "cell_type": "markdown",
      "source": [
        "# Importando dados satelite **NSRDB**"
      ],
      "metadata": {
        "id": "8CkvHK68Nkub"
      }
    },
    {
      "cell_type": "code",
      "source": [
        "# @title\n",
        "# Importando Dados de Satélite da NSRDB - É preciso solicitar a chave de API no site https://developer.nrel.gov/signup/\n",
        "# Os dados de satélite já vem em resolução horária. Portando, para a conversão de dados horários para diários, basta aplicar a função resample('D').sum() como feito acima.\n",
        "email = 'r299011@dac.unicamp.br'\n",
        "api_key = '4s9h0h7ScaQ8gxJWelBoBOi0qHgFkDzyOSBM2TSh'  # substitua pela sua chave de API\n",
        "year = 2019\n",
        "\n",
        "nsrdb_data_2019, metadata4 = pvlib.iotools.get_nsrdb_psm4_full_disc(latitude, longitude, api_key, email, year, time_step=60,\n",
        "                                                              parameters=('air_temperature', 'dew_point', 'dhi', 'dni', 'ghi', 'surface_albedo', 'surface_pressure', 'wind_direction', 'wind_speed'),\n",
        "                                                              leap_day=True, full_name='pvlib python', affiliation='pvlib python', utc=True, map_variables=True, url=None, timeout=30)"
      ],
      "metadata": {
        "id": "eGhPQoWeZSFz",
        "cellView": "form"
      },
      "execution_count": null,
      "outputs": []
    },
    {
      "cell_type": "code",
      "source": [
        "# @title\n",
        "# Importando Dados de Satélite da NSRDB - É preciso solicitar a chave de API no site https://developer.nrel.gov/signup/\n",
        "# Os dados de satélite já vem em resolução horária. Portando, para a conversão de dados horários para diários, basta aplicar a função resample('D').sum() como feito acima.\n",
        "email = 'r299011@dac.unicamp.br'\n",
        "api_key = '4s9h0h7ScaQ8gxJWelBoBOi0qHgFkDzyOSBM2TSh'  # substitua pela sua chave de API\n",
        "year = 2020\n",
        "\n",
        "nsrdb_data_2020, metadata4 = pvlib.iotools.get_nsrdb_psm4_full_disc(latitude, longitude, api_key, email, year, time_step=60,\n",
        "                                                              parameters=('air_temperature', 'dew_point', 'dhi', 'dni', 'ghi', 'surface_albedo', 'surface_pressure', 'wind_direction', 'wind_speed'),\n",
        "                                                              leap_day=True, full_name='pvlib python', affiliation='pvlib python', utc=True, map_variables=True, url=None, timeout=30)\n"
      ],
      "metadata": {
        "id": "3EDpHyKwNPim",
        "cellView": "form"
      },
      "execution_count": null,
      "outputs": []
    },
    {
      "cell_type": "code",
      "source": [
        "# @title\n",
        "# Importando Dados de Satélite da NSRDB - É preciso solicitar a chave de API no site https://developer.nrel.gov/signup/\n",
        "# Os dados de satélite já vem em resolução horária. Portando, para a conversão de dados horários para diários, basta aplicar a função resample('D').sum() como feito acima.\n",
        "email = 'r299011@dac.unicamp.br'\n",
        "api_key = '4s9h0h7ScaQ8gxJWelBoBOi0qHgFkDzyOSBM2TSh'  # substitua pela sua chave de API\n",
        "year = 2021\n",
        "\n",
        "nsrdb_data_2021, metadata4 = pvlib.iotools.get_nsrdb_psm4_full_disc(latitude, longitude, api_key, email, year, time_step=60,\n",
        "                                                              parameters=('air_temperature', 'dew_point', 'dhi', 'dni', 'ghi', 'surface_albedo', 'surface_pressure', 'wind_direction', 'wind_speed'),\n",
        "                                                              leap_day=True, full_name='pvlib python', affiliation='pvlib python', utc=True, map_variables=True, url=None, timeout=30)"
      ],
      "metadata": {
        "id": "EFcDcPWyZS0X",
        "cellView": "form"
      },
      "execution_count": null,
      "outputs": []
    },
    {
      "cell_type": "code",
      "source": [
        "# @title\n",
        "nsrdb_data_3Y = nsrdb_data_3Y = pd.concat([nsrdb_data_2019, nsrdb_data_2020, nsrdb_data_2021], axis=0)"
      ],
      "metadata": {
        "id": "6hOwTvFCZN73",
        "cellView": "form"
      },
      "execution_count": null,
      "outputs": []
    },
    {
      "cell_type": "code",
      "source": [
        "# @title\n",
        "nsrdb_data_3Y"
      ],
      "metadata": {
        "id": "PBEicLNfSnLb",
        "cellView": "form",
        "collapsed": true
      },
      "execution_count": null,
      "outputs": []
    },
    {
      "cell_type": "markdown",
      "source": [
        "# Comparativo GHI, DNI, DHI"
      ],
      "metadata": {
        "id": "q6OQZ6wFUegz"
      }
    },
    {
      "cell_type": "markdown",
      "source": [
        "**GHI** - (Global Horizontal Irradiance)\n",
        "**DNI** - (Direct Normal Irradiance)\n",
        "**DHI** - (Diffuse Horizontal Irradiance)"
      ],
      "metadata": {
        "id": "wTH66JP9UngJ"
      }
    },
    {
      "cell_type": "code",
      "source": [
        "# @title\n",
        "#GHI\n",
        "pvgis_dataset_ghi_3Y['poa_global'].resample('D').sum().plot(figsize=(20,6))\n",
        "nsrdb_data_3Y['ghi'].resample('D').sum().plot(figsize=(20,6))\n",
        "df_weather_horário['ghi'].resample('D').sum().plot(figsize=(20,6))\n",
        "plt.legend(['PVGIS-ERA5', 'NSRDB', 'Medições em campo'])\n",
        "plt.title('Comparativo de Irradiância Global Horizontal Diária (GHI)- 2021')\n",
        "plt.ylabel('Irradiância Global Horizontal  Diária (Wh/m²)')\n",
        "plt.xlabel('Data')\n",
        "plt.grid()\n",
        "plt.show()\n",
        "\n",
        "#DNI\n",
        "pvgis_dataset_ghi_3Y['poa_global'].resample('D').sum().plot(figsize=(20,6))\n",
        "nsrdb_data_3Y['dni'].resample('D').sum().plot(figsize=(20,6))\n",
        "df_weather_horário['dni'].resample('D').sum().plot(figsize=(20,6))\n",
        "plt.legend(['PVGIS-ERA5', 'NSRDB', 'Medições em campo'])\n",
        "plt.title('Comparativo de Irradiância Directa Norma Diária (DNI) - 2021')\n",
        "plt.ylabel('Irradiância Directa Normal (Wh/m²)')\n",
        "plt.xlabel('Data')\n",
        "plt.grid()\n",
        "plt.show()\n",
        "\n",
        "\n",
        "#DHI\n",
        "pvgis_dataset_ghi_3Y['poa_global'].resample('D').sum().plot(figsize=(20,6))\n",
        "nsrdb_data_3Y['dhi'].resample('D').sum().plot(figsize=(20,6))\n",
        "df_weather_horário['dhi'].resample('D').sum().plot(figsize=(20,6))\n",
        "plt.legend(['PVGIS-ERA5', 'NSRDB', 'Medições em campo'])\n",
        "plt.title('Comparativo de Irradiância Difusa Horizontal Diária (DHI)- 2019 - 2021')\n",
        "plt.ylabel('Irradiância Difusa Horizontal (Wh/m²)')\n",
        "plt.xlabel('Data')\n",
        "plt.grid()\n",
        "plt.show()"
      ],
      "metadata": {
        "id": "j1mcMFEOUpzx",
        "cellView": "form",
        "collapsed": true
      },
      "execution_count": null,
      "outputs": []
    },
    {
      "cell_type": "markdown",
      "source": [
        "# **Comparativo** de Dados de **Satélite** com Dados **Medidos** em Campo **GHI,DNI,DHI**"
      ],
      "metadata": {
        "id": "t3qRhyywV-iq"
      }
    },
    {
      "cell_type": "code",
      "source": [
        "# @title\n",
        "import numpy as np\n",
        "import pandas as pd\n",
        "import matplotlib.pyplot as plt\n",
        "from sklearn.metrics import mean_squared_error, mean_absolute_error, r2_score\n",
        "#GHI\n",
        "# Dados dos modelos\n",
        "models = {\n",
        "    'PVGIS': pvgis_dataset_ghi_3Y['poa_global'].resample('D').sum(),\n",
        "    'NSRDB': nsrdb_data_3Y['ghi'].resample('D').sum()\n",
        "}\n",
        "\n",
        "# Dados medidos\n",
        "measured = df_weather_horário['ghi'].resample('D').sum()\n",
        "\n",
        "# 2. Cálculo das métricas\n",
        "metrics = pd.DataFrame(columns=['RMSE (W/m²)', 'MAE (W/m²)', 'R²', 'Bias (W/m²)', 'Energia Total (Wh/m²)'])\n",
        "\n",
        "for name, model in models.items():\n",
        "    y_true = measured\n",
        "    y_pred = model\n",
        "\n",
        "    metrics.loc[name] = {\n",
        "        'RMSE (W/m²)': np.sqrt(mean_squared_error(y_true, y_pred)),\n",
        "        'MAE (W/m²)': mean_absolute_error(y_true, y_pred),\n",
        "        'R²': r2_score(y_true, y_pred),\n",
        "        'Bias (W/m²)': np.mean(y_pred - y_true),\n",
        "        'Energia Total (Wh/m²)': model.sum()\n",
        "    }\n",
        "\n",
        "# Adicionando dados medidos\n",
        "metrics.loc['Dados Medidos'] = {\n",
        "    'RMSE (W/m²)': np.nan,\n",
        "    'MAE (W/m²)': np.nan,\n",
        "    'R²': np.nan,\n",
        "    'Bias (W/m²)': np.nan,\n",
        "    'Energia Total (Wh/m²)': measured.sum()\n",
        "}\n",
        "\n",
        "# 3. Exibição das métricas com formatação\n",
        "pd.set_option('display.float_format', '{:.2f}'.format)\n",
        "print(\"\\n=== Métricas de Desempenho ghi 3 anos ===\")\n",
        "print(metrics)\n",
        "###################################______________________________________####################################################\n",
        "#DNI\n",
        "# Dados dos modelos\n",
        "models = {\n",
        "    'PVGIS': pvgis_dataset_ghi_3Y['poa_global'].resample('D').sum(),\n",
        "    'NSRDB': nsrdb_data_3Y['dni'].resample('D').sum()\n",
        "}\n",
        "\n",
        "# Dados medidos\n",
        "measured = df_weather_horário['dni'].resample('D').sum()\n",
        "\n",
        "# 2. Cálculo das métricas\n",
        "metrics = pd.DataFrame(columns=['RMSE (W/m²)', 'MAE (W/m²)', 'R²', 'Bias (W/m²)', 'Energia Total (Wh/m²)'])\n",
        "\n",
        "for name, model in models.items():\n",
        "    y_true = measured\n",
        "    y_pred = model\n",
        "\n",
        "    metrics.loc[name] = {\n",
        "        'RMSE (W/m²)': np.sqrt(mean_squared_error(y_true, y_pred)),\n",
        "        'MAE (W/m²)': mean_absolute_error(y_true, y_pred),\n",
        "        'R²': r2_score(y_true, y_pred),\n",
        "        'Bias (W/m²)': np.mean(y_pred - y_true),\n",
        "        'Energia Total (Wh/m²)': model.sum()\n",
        "    }\n",
        "\n",
        "# Adicionando dados medidos\n",
        "metrics.loc['Dados Medidos'] = {\n",
        "    'RMSE (W/m²)': np.nan,\n",
        "    'MAE (W/m²)': np.nan,\n",
        "    'R²': np.nan,\n",
        "    'Bias (W/m²)': np.nan,\n",
        "    'Energia Total (Wh/m²)': measured.sum()\n",
        "}\n",
        "\n",
        "# 3. Exibição das métricas com formatação\n",
        "pd.set_option('display.float_format', '{:.2f}'.format)\n",
        "print(\"\\n=== Métricas de Desempenho dni 3 anos ===\")\n",
        "print(metrics)\n",
        "###################################______________________________________####################################################\n",
        "#DHI\n",
        "# Dados dos modelos\n",
        "models = {\n",
        "    'PVGIS': pvgis_dataset_ghi_3Y['poa_global'].resample('D').sum(),\n",
        "    'NSRDB': nsrdb_data_3Y['dhi'].resample('D').sum()\n",
        "}\n",
        "\n",
        "# Dados medidos\n",
        "measured = df_weather_horário['dhi'].resample('D').sum()\n",
        "\n",
        "# 2. Cálculo das métricas\n",
        "metrics = pd.DataFrame(columns=['RMSE (W/m²)', 'MAE (W/m²)', 'R²', 'Bias (W/m²)', 'Energia Total (Wh/m²)'])\n",
        "\n",
        "for name, model in models.items():\n",
        "    y_true = measured\n",
        "    y_pred = model\n",
        "\n",
        "    metrics.loc[name] = {\n",
        "        'RMSE (W/m²)': np.sqrt(mean_squared_error(y_true, y_pred)),\n",
        "        'MAE (W/m²)': mean_absolute_error(y_true, y_pred),\n",
        "        'R²': r2_score(y_true, y_pred),\n",
        "        'Bias (W/m²)': np.mean(y_pred - y_true),\n",
        "        'Energia Total (Wh/m²)': model.sum()\n",
        "    }\n",
        "\n",
        "# Adicionando dados medidos\n",
        "metrics.loc['Dados Medidos'] = {\n",
        "    'RMSE (W/m²)': np.nan,\n",
        "    'MAE (W/m²)': np.nan,\n",
        "    'R²': np.nan,\n",
        "    'Bias (W/m²)': np.nan,\n",
        "    'Energia Total (Wh/m²)': measured.sum()\n",
        "}\n",
        "\n",
        "# 3. Exibição das métricas com formatação\n",
        "pd.set_option('display.float_format', '{:.2f}'.format)\n",
        "print(\"\\n=== Métricas de Desempenho dhi 3 anos ===\")\n",
        "print(metrics)"
      ],
      "metadata": {
        "id": "VGjjX-JbV7n4",
        "cellView": "form",
        "collapsed": true
      },
      "execution_count": null,
      "outputs": []
    },
    {
      "cell_type": "markdown",
      "source": [
        "**pela analise grafica e fazendo o comparativo com metrica para os 3 anos o melhor seria o NSRDB Scan por serem mais proximos a medida real em campo, seram usados em modelagens de geração**"
      ],
      "metadata": {
        "id": "FYwibPzqbTGm"
      }
    },
    {
      "cell_type": "markdown",
      "source": [
        "Logo após selecionar o dataset (NSRDB ou PVGIS), plotar os seguintes gráficos:                                                                                 \n",
        "▪ Fração Difusa (DHI / GHI) vs Kt (GHI / (H0*cos (θz)));: Este grafico representa como a propoção de variação difusa varia com a \"limpeza do ceu representado por KT                                                                                           \n",
        "▪ Componentes do Recurso Solar na Horizontal vs Zenith;                                                                         "
      ],
      "metadata": {
        "id": "cPVHLRLyXMGN"
      }
    },
    {
      "cell_type": "code",
      "source": [
        "# @title\n",
        "# Kt x Diffuse Fraction\n",
        "\n",
        "\n",
        "dni_extra = pvlib.irradiance.get_extra_radiation(nsrdb_data_3Y.index)\n",
        "\n",
        "\n",
        "\n",
        "Kt = nsrdb_data_3Y['ghi']/dni_extra\n",
        "\n",
        "diff_fraction = nsrdb_data_3Y['dhi']/nsrdb_data_3Y['ghi']\n",
        "\n",
        "plt.scatter(Kt, diff_fraction)\n",
        "plt.ylim(0, 1)\n",
        "plt.xlabel('Kt (GHI/Io)')\n",
        "plt.ylabel('Fração Difusa (DHI/GHI)')\n",
        "plt.show()"
      ],
      "metadata": {
        "id": "TkR-Hon9XlTc",
        "cellView": "form"
      },
      "execution_count": null,
      "outputs": []
    },
    {
      "cell_type": "code",
      "source": [
        "# @title\n",
        "plt.figure(figsize=(8,6))\n",
        "plt.scatter(Kt, diff_fraction, s=5, alpha=0.4, color='orange')\n",
        "plt.xlabel('Índice de Claridade (Kt)')\n",
        "plt.ylabel('Fração Difusa (DHI / GHI)')\n",
        "plt.title('Relação Fração Difusa vs Kt')\n",
        "plt.grid(True, alpha=0.3)\n",
        "plt.show()"
      ],
      "metadata": {
        "id": "z22ArTZAXlw4",
        "cellView": "form",
        "collapsed": true
      },
      "execution_count": null,
      "outputs": []
    },
    {
      "cell_type": "markdown",
      "source": [
        "# **Dados do DATASHEET DO MODULO**"
      ],
      "metadata": {
        "id": "s5LEszqwduIh"
      }
    },
    {
      "cell_type": "markdown",
      "source": [
        "Trinasolar - TSM-XXXDE18M(II) (XXX=495-515)\n",
        "\n",
        "ESCOLHIDO PARA O TRABALHO SM-500DE18M(II)\n"
      ],
      "metadata": {
        "id": "RH08XdGlizaN"
      }
    },
    {
      "cell_type": "markdown",
      "source": [
        "![image.png](data:image/png;base64,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)"
      ],
      "metadata": {
        "id": "v-ezvB8nl-ba"
      }
    },
    {
      "cell_type": "markdown",
      "source": [
        "![image.png](data:image/png;base64,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)"
      ],
      "metadata": {
        "id": "33sXTz5bmnGU"
      }
    },
    {
      "cell_type": "markdown",
      "source": [
        "![image.png](data:image/png;base64,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)"
      ],
      "metadata": {
        "id": "9b6tDxa6ms8z"
      }
    },
    {
      "cell_type": "markdown",
      "source": [
        "![image.png](data:image/png;base64,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)"
      ],
      "metadata": {
        "id": "cytYSVVKmvr6"
      }
    },
    {
      "cell_type": "code",
      "source": [
        "# @title\n",
        "#Módulo de 500 Wp\n",
        "Vmp = 42.8 #Voltage at Maximum Power\n",
        "Imp = 11.69#Current at Maximum Power\n",
        "Voc = 51.7 #Open-Circuit Voltage\n",
        "Isc = 12.28 #Short-Circuit Current\n",
        "alpha = 0.04*Isc/100 # Alpha_isc (%/A) * Short-Circuit Current - coeficiente de temperatura I\n",
        "beta = (-0.25)*Voc/100 # Beta_voc (%/V) * Open-Circuit Voltage - coeficiente de temperatura V\n",
        "gamma = -0.0034                                               #- coeficiente de temperatura P\n",
        "Ns = 150 #Number of PV Cells in Series\n",
        "A_c = 2.410074 #The Area of PV Module's Surface\n",
        "eff_ref = 0.207 #eficiencia do modulo"
      ],
      "metadata": {
        "id": "KgNBVb7sdw2v"
      },
      "execution_count": null,
      "outputs": []
    },
    {
      "cell_type": "markdown",
      "source": [
        "# **Comparação modelo Clearsky com NSRDB**, e dados medidos pela estação - **GHI,DNI,DHI**"
      ],
      "metadata": {
        "id": "DtoEvjJ2_rLl"
      }
    },
    {
      "cell_type": "code",
      "source": [
        "# @title\n",
        "import pandas as pd\n",
        "import matplotlib.pyplot as plt\n",
        "from pvlib import location\n",
        "\n",
        "# ============================================\n",
        "#  Definir o período e o modelo de céu limpo\n",
        "# ============================================\n",
        "start = '2019-01-01'\n",
        "end = '2021-12-31'\n",
        "\n",
        "# Define the site location\n",
        "latitude = 36.107        # Latitude de Las Vegas\n",
        "longitude = -115.1425    # Longitude de Las Vegas\n",
        "tz = 'America/Los_Angeles'  # Fuso horário local correto\n",
        "site = location.Location(latitude, longitude, tz=tz)\n",
        "\n",
        "times = pd.date_range(start, end, freq='H', tz=site.tz)\n",
        "\n",
        "# Modelo de céu limpo Ineichen (gera GHI, DNI e DHI)\n",
        "clearsky = site.get_clearsky(times, model='ineichen')\n",
        "\n",
        "# ============================================\n",
        "# Função auxiliar para plotar e calcular\n",
        "# ============================================\n",
        "def plot_component(component: str, ylabel: str):\n",
        "    \"\"\"\n",
        "    Plota e calcula a irradiação diária e anual de um componente (GHI, DNI ou DHI).\n",
        "    \"\"\"\n",
        "\n",
        "    plt.figure(figsize=(20, 6))\n",
        "\n",
        "    # Plot diário (soma horária → diária)\n",
        "    clearsky[component].resample('D').sum().plot(label=f'Céu Limpo ({component})')\n",
        "    nsrdb_data_3Y[component].resample('D').sum().plot(label=f'NSRDB ({component})')\n",
        "    df_weather_horário[component].resample('D').sum().plot(label=f'Medido ({component})')\n",
        "\n",
        "    plt.xlabel('Data')\n",
        "    plt.ylabel(ylabel)\n",
        "    plt.title(f'Comparação {component} – Medido, NSRDB e Céu Limpo (Ano 2021)')\n",
        "    plt.legend()\n",
        "    plt.grid(True)\n",
        "    plt.tight_layout()\n",
        "    plt.show()\n",
        "\n",
        "    # Cálculo anual (kWh/m²)\n",
        "    val_clearsky = clearsky[component].sum() / 1000\n",
        "    val_nsrdb = nsrdb_data_3Y[component].sum() / 1000\n",
        "    val_measured = df_weather_horário[component].sum() / 1000\n",
        "    ratio = (val_measured / val_clearsky) * 100 if val_clearsky > 0 else None\n",
        "\n",
        "    # Exibir resultados\n",
        "    print(f\"\\n=== {component} ===\")\n",
        "    print(f\"Céu Limpo (Ineichen): {val_clearsky:.2f} kWh/m²\")\n",
        "    print(f\"NSRDB:                {val_nsrdb:.2f} kWh/m²\")\n",
        "    print(f\"Medido:               {val_measured:.2f} kWh/m²\")\n",
        "    print(f\"Razão (Medido/Céu Limpo): {ratio:.2f}%\")\n",
        "\n",
        "# ============================================\n",
        "# Plotar e calcular para GHI, DNI e DHI\n",
        "# ============================================\n",
        "plot_component('ghi', 'Irradiação Diária (Wh/m²)')\n",
        "plot_component('dni', 'Irradiação Direta Normal (Wh/m²)')\n",
        "plot_component('dhi', 'Irradiação Difusa Horizontal (Wh/m²)')"
      ],
      "metadata": {
        "id": "cbEjrla3C-Uv",
        "cellView": "form"
      },
      "execution_count": null,
      "outputs": []
    },
    {
      "cell_type": "markdown",
      "source": [
        "essa analise foi feita para identificar possiveis anomalias de medições no periodo escolhido."
      ],
      "metadata": {
        "id": "Ex-CYxO-DsKi"
      }
    },
    {
      "cell_type": "markdown",
      "source": [
        "# MODELO DE DECOMPOSIÇÃO DE **ERBS, DISC, BOLAND, DIRINT** - apartir de **GHI**(validando qual modelo é melhor)"
      ],
      "metadata": {
        "id": "pJTAq_Ux_sBD"
      }
    },
    {
      "cell_type": "code",
      "source": [
        "# @title\n",
        "#Modelagem de Decomposição com outros modelos de decomposição\n",
        "from pvlib import irradiance, location\n",
        "\n",
        "# Primeiro você precisa criar um objeto Location com suas coordenadas\n",
        "# (substitua latitude, longitude e tz pelos valores corretos)\n",
        "site = location.Location(latitude, longitude, tz=tz)\n",
        "\n",
        "# Em seguida, calcule a posição solar para cada instante do seu DataFrame\n",
        "solar_position = site.get_solarposition(nsrdb_data_3Y.index)\n",
        "\n",
        "#----------------------------------------------------------------------------------------------\n",
        "#ERBS\n",
        "# Agora aplique o modelo ERBS para decompor o GHI em DNI e DHI\n",
        "out_erbs = irradiance.erbs(\n",
        "    ghi=nsrdb_data_3Y['ghi'],\n",
        "    zenith=solar_position['zenith'],\n",
        "    datetime_or_doy=nsrdb_data_3Y.index\n",
        ")\n",
        "\n",
        "# Renomeie as colunas conforme necessário\n",
        "out_erbs = out_erbs.rename(columns={\n",
        "    'dni': 'dni_erbs',\n",
        "    'dhi': 'dhi_erbs'\n",
        "})\n",
        "#----------------------------------------------------------------------------------------------\n",
        "#DISC\n",
        "out_disc = irradiance.disc(\n",
        "    nsrdb_data_3Y['ghi'], solar_position['zenith'], nsrdb_data_3Y.index, nsrdb_data_3Y['pressure']*100)\n",
        "# use \"complete sum\" AKA \"closure\" equations: DHI = GHI - DNI * cos(zenith)\n",
        "df_disc = irradiance.complete_irradiance(\n",
        "    solar_zenith=solar_position['zenith'], ghi=nsrdb_data_3Y['ghi'], dni=out_disc.dni,\n",
        "    dhi=None)\n",
        "out_disc = out_disc.rename(columns={'dni': 'dni_disc'})\n",
        "out_disc['dhi_disc'] = df_disc.dhi\n",
        "#----------------------------------------------------------------------------------------------\n",
        "#BOLAND\n",
        "out_boland = irradiance.boland(nsrdb_data_3Y['ghi'], solar_position['zenith'], nsrdb_data_3Y.index)\n",
        "out_boland = out_boland.rename(\n",
        "    columns={'dni': 'dni_boland', 'dhi': 'dhi_boland'})\n",
        "#----------------------------------------------------------------------------------------------\n",
        "#DIRINT\n",
        "dni_dirint = irradiance.dirint(\n",
        "    nsrdb_data_3Y['ghi'], solar_position['zenith'], nsrdb_data_3Y.index, nsrdb_data_3Y['pressure']*100,\n",
        "    temp_dew=None)\n",
        "# use \"complete sum\" AKA \"closure\" equation: DHI = GHI - DNI * cos(zenith)\n",
        "df_dirint = irradiance.complete_irradiance(\n",
        "    solar_zenith=solar_position['zenith'], ghi=nsrdb_data_3Y['ghi'], dni=dni_dirint,\n",
        "    dhi=None)\n",
        "out_dirint = pd.DataFrame(\n",
        "    {'dni_dirint': dni_dirint, 'dhi_dirint': df_dirint.dhi},\n",
        "    index=nsrdb_data_3Y.index)"
      ],
      "metadata": {
        "id": "7iFfX-trD_md"
      },
      "execution_count": null,
      "outputs": []
    },
    {
      "cell_type": "markdown",
      "source": [
        "#Comparando **DHI** - dos modelos **ERBS, DISC, BOLAND, DIRINT**"
      ],
      "metadata": {
        "id": "GuuDGzHlGsRM"
      }
    },
    {
      "cell_type": "markdown",
      "source": [
        "clearsky apenas para ver valores anormais de medição"
      ],
      "metadata": {
        "id": "d0Yeo2fSHPJO"
      }
    },
    {
      "cell_type": "code",
      "source": [
        "# @title\n",
        "# O método .resample('D').mean() agrupa os dados por dia ('D') e calcula a média.\n",
        "dhi_erbs_diario = out_erbs['dhi_erbs'].resample('D').mean()\n",
        "dhi_dirint_diario = out_dirint['dhi_dirint'].resample('D').mean()\n",
        "dhi_disc_diario = out_disc['dhi_disc'].resample('D').mean()\n",
        "dhi_boland_diario = out_boland['dhi_boland'].resample('D').mean()\n",
        "dhi_medido_diario = df_weather['dhi'].resample('D').mean()\n",
        "dhi_nsrdb_diario = nsrdb_data_3Y['dhi'].resample('D').mean()\n",
        "dhi_clearsky_diario = clearsky['dhi'].resample('D').mean()\n",
        "\n",
        "# --- Plotando as diferentes estimativas de DHI (MÉDIA DIÁRIA) ---\n",
        "plt.figure(figsize=(20, 6))\n",
        "dhi_erbs_diario.plot(label='DHI Erbs ')\n",
        "dhi_dirint_diario.plot(label='DHI Dirint ')\n",
        "dhi_disc_diario.plot(label='DHI Disc ')\n",
        "dhi_boland_diario.plot(label='DHI Boland ')\n",
        "dhi_medido_diario.plot(label='Medido em campo ')\n",
        "dhi_nsrdb_diario.plot(label='NSRDB ')\n",
        "dhi_clearsky_diario.plot(label='Irradiação Difusa Horizontal (DHI) de Céu Limpo', alpha=0.7)\n",
        "\n",
        "print(\"Valores acumulados para o período de 3 anos :\")\n",
        "\n",
        "print(f\"\\nValor acumulado de DHI para céu limpo: {clearsky['dhi'].sum() / 1000:.2f} kWh/m²\")\n",
        "print(f\"Erbs: {out_erbs['dhi_erbs'].sum()/1000:.2f} kWh/m²\")  # Convertendo Wh para kWh\n",
        "print(f\"Dirint: {out_dirint['dhi_dirint'].sum()/1000:.2f} kWh/m²\")\n",
        "print(f\"Disc: {out_disc['dhi_disc'].sum()/1000:.2f} kWh/m²\")\n",
        "print(f\"Boland: {out_boland['dhi_boland'].sum()/1000:.2f} kWh/m²\")\n",
        "print(f\"Medido: {df_weather['dhi'].sum()/1000:.2f} kWh/m²\")\n",
        "\n",
        "\n",
        "# --- Configurações do gráfico ---\n",
        "plt.title('Comparação de Modelos de Irradiação Difusa Horizontal (DHI) - Média Diária')\n",
        "plt.xlabel('Data')\n",
        "plt.ylabel('Irradiação Média Diária (W/m²)') # Alterado o label para refletir a média\n",
        "plt.legend()\n",
        "plt.grid(True)\n",
        "plt.show()"
      ],
      "metadata": {
        "id": "ldCAhYhmMtGa"
      },
      "execution_count": null,
      "outputs": []
    },
    {
      "cell_type": "code",
      "source": [
        "# @title\n",
        "import numpy as np\n",
        "import pandas as pd\n",
        "import matplotlib.pyplot as plt\n",
        "from sklearn.metrics import mean_squared_error, mean_absolute_error, r2_score\n",
        "from scipy.stats import gaussian_kde\n",
        "\n",
        "# Set the timezone for df_weather to match the model dataframes\n",
        "df_weather = df_weather.tz_convert('UTC')\n",
        "\n",
        "# Resample df_weather to hourly before daily sum\n",
        "df_weather_hourly = df_weather.resample('H').mean()\n",
        "\n",
        "# 1. Configuração dos Modelos (Incluindo NSRDB)\n",
        "models = {\n",
        "    'Erbs': out_erbs['dhi_erbs'].resample('D').sum(),\n",
        "    'Dirint': out_dirint['dhi_dirint'].resample('D').sum(),\n",
        "    'Disc': out_disc['dhi_disc'].resample('D').sum(),\n",
        "    'Boland': out_boland['dhi_boland'].resample('D').sum(),\n",
        "    # Removed 'Clearsky': clearsky['dhi'].resample('D').sum(),\n",
        "    # Adicionando o NSRDB para ser comparado com o Medido\n",
        "    'NSRDB': nsrdb_data_3Y['dhi'].resample('D').sum()\n",
        "}\n",
        "\n",
        "# Dados medidos (referência)\n",
        "measured = df_weather_hourly['dhi'].resample('D').sum() # Use the resampled hourly data\n",
        "\n",
        "# --- Debugging: Display index information ---\n",
        "print(\"Measured data index:\")\n",
        "print(measured.head())\n",
        "print(f\"Measured data frequency: {measured.index.freq}\")\n",
        "\n",
        "for name, model in models.items():\n",
        "    print(f\"\\n{name} model index:\")\n",
        "    print(model.head())\n",
        "    print(f\"{name} model frequency: {model.index.freq}\")\n",
        "# --- End Debugging ---\n",
        "\n",
        "# 2. Cálculo das métricas\n",
        "metrics = pd.DataFrame(columns=['RMSE (W/m²)', 'MAE (W/m²)', 'R²', 'Bias (W/m²)', 'Energia Total (kWh/m²)'])\n",
        "\n",
        "for name, model in models.items():\n",
        "    # Ensure both series have the same index before comparison\n",
        "    common_index = measured.index.intersection(model.index)\n",
        "    y_true = measured.loc[common_index]\n",
        "    y_pred = model.loc[common_index]\n",
        "\n",
        "    # Check if there are common data points\n",
        "    if common_index.empty:\n",
        "        print(f\"\\nWarning: No common data points between Measured and {name} model after resampling.\")\n",
        "        metrics.loc[name] = [np.nan] * 5 # Fill with NaN if no common data\n",
        "        continue\n",
        "\n",
        "    # Ajuste de Energia Total para kWh/m²\n",
        "    metrics.loc[name] = {\n",
        "        'RMSE (W/m²)': np.sqrt(mean_squared_error(y_true, y_pred)),\n",
        "        'MAE (W/m²)': mean_absolute_error(y_true, y_pred),\n",
        "        'R²': r2_score(y_true, y_pred),\n",
        "        'Bias (W/m²)': np.mean(y_pred - y_true),\n",
        "        'Energia Total (kWh/m²)': model.sum() / 1000  # Convertendo Wh/m² para kWh/m²\n",
        "    }\n",
        "\n",
        "# Adicionando dados medidos (referência)\n",
        "metrics.loc['Medido'] = {\n",
        "    'RMSE (W/m²)': np.nan,\n",
        "    'MAE (W/m²)': np.nan,\n",
        "    'R²': np.nan,\n",
        "    'Bias (W/m²)': np.nan,\n",
        "    'Energia Total (kWh/m²)': measured.sum() / 1000\n",
        "}\n",
        "\n",
        "# 3. Exibição das métricas com formatação\n",
        "pd.set_option('display.float_format', '{:.2f}'.format)\n",
        "print(\"\\n=== Métricas de Desempenho (DHI vs Medido em Campo) ===\")\n",
        "print(metrics)\n",
        "print(\"\\n\")\n",
        "\n",
        "# --- GRÁFICOS ---\n",
        "# The number of models is now 5, so the subplot layout needs adjustment.\n",
        "# Let's use a 3x2 layout, leaving one spot empty.\n",
        "\n",
        "# 4. Gráficos de dispersão com ajuste linear\n",
        "plt.figure(figsize=(15, 15)) # Aumentando o tamanho para 6 gráficos\n",
        "for i, (name, model) in enumerate(models.items(), 1):\n",
        "    plt.subplot(3, 2, i)\n",
        "\n",
        "    common_index = measured.index.intersection(model.index)\n",
        "    x = measured.loc[common_index]\n",
        "    y = model.loc[common_index]\n",
        "\n",
        "    # Check if there are common data points for plotting\n",
        "    if common_index.empty:\n",
        "        print(f\"\\nWarning: No common data points for plotting {name} model.\")\n",
        "        plt.title(f\"{name} vs Medido\\nNo common data\", fontsize=12)\n",
        "        plt.xlabel('DHI Medido (W/m²)', fontsize=10)\n",
        "        plt.ylabel(f'{name} (W/m²)', fontsize=10)\n",
        "        plt.grid(True, alpha=0.3)\n",
        "        continue\n",
        "\n",
        "\n",
        "    plt.scatter(x, y, alpha=0.3, color=plt.cm.tab10(i-1))\n",
        "    plt.plot([0, max(x)], [0, max(x)], 'r--', label='Linha 1:1')\n",
        "\n",
        "    # Para evitar erros de ajuste com pouquíssimos dados\n",
        "    if len(x) > 1:\n",
        "        coef = np.polyfit(x, y, 1)\n",
        "        poly1d_fn = np.poly1d(coef)\n",
        "        plt.plot(x, poly1d_fn(x), 'k-', label=f'Ajuste: y={coef[0]:.2f}x+{coef[1]:.2f}')\n",
        "    else:\n",
        "        print(f\"Aviso: Não há dados suficientes para ajuste linear em {name}.\")\n",
        "\n",
        "\n",
        "    plt.xlabel('DHI Medido (W/m²)', fontsize=10)\n",
        "    plt.ylabel(f'{name} (W/m²)', fontsize=10)\n",
        "    plt.title(f'{name} vs Medido\\nR² = {metrics.loc[name, \"R²\"]:.2f}', fontsize=12)\n",
        "    plt.legend(fontsize=9)\n",
        "    plt.grid(True, alpha=0.3)\n",
        "\n",
        "plt.tight_layout()\n",
        "plt.show()\n",
        "\n",
        "# 5. Análise de distribuição de erros\n",
        "plt.figure(figsize=(15, 15)) # Aumentando o tamanho para 6 gráficos\n",
        "for i, (name, model) in enumerate(models.items(), 1):\n",
        "    ax = plt.subplot(3, 2, i)\n",
        "\n",
        "    common_index = measured.index.intersection(model.index)\n",
        "    error = model.loc[common_index] - measured.loc[common_index]\n",
        "\n",
        "\n",
        "    # Tratamento de dados inválidos\n",
        "    clean_error = error.replace([np.inf, -np.inf], np.nan).dropna()\n",
        "\n",
        "    if len(clean_error) == 0:\n",
        "        print(f\"\\nAviso: Não há dados válidos para {name}. Pulando gráfico.\")\n",
        "        ax.axis('off')\n",
        "        continue\n",
        "\n",
        "    # Histograma com densidade\n",
        "    n, bins, patches = ax.hist(clean_error, bins=50, density=True,\n",
        "                               alpha=0.7, color=plt.cm.tab10(i-1))\n",
        "\n",
        "    # Linhas de referência\n",
        "    ax.axvline(x=0, color='r', linestyle='--', linewidth=1)\n",
        "    current_bias = np.mean(clean_error)\n",
        "    ax.axvline(x=current_bias, color='k',\n",
        "               linestyle='-', linewidth=1.5, label=f'Bias: {current_bias:.2f}')\n",
        "\n",
        "    # Curva KDE\n",
        "    try:\n",
        "        kde = gaussian_kde(clean_error)\n",
        "        x_vals = np.linspace(min(clean_error), max(clean_error), 100)\n",
        "        ax.plot(x_vals, kde(x_vals), 'b-', linewidth=1.5)\n",
        "    except Exception as e:\n",
        "        print(f\"\\nAviso: Não foi possível calcular KDE para {name}. Erro: {str(e)}\")\n",
        "\n",
        "    ax.set_title(f'Distribuição de Erros - {name}', fontsize=12)\n",
        "    ax.set_xlabel('Erro (W/m²)', fontsize=10)\n",
        "    ax.set_ylabel('Densidade', fontsize=10)\n",
        "    ax.legend(fontsize=9)\n",
        "    ax.grid(True, alpha=0.3)\n",
        "\n",
        "plt.tight_layout()\n",
        "plt.show()\n",
        "\n",
        "# 6. Boxplot comparativo de erros\n",
        "plt.figure(figsize=(12, 6))\n",
        "all_errors = []\n",
        "labels = []\n",
        "for name, model in models.items():\n",
        "    common_index = measured.index.intersection(model.index)\n",
        "    error = model.loc[common_index] - measured.loc[common_index]\n",
        "    clean_error = error.replace([np.inf, -np.inf], np.nan).dropna()\n",
        "\n",
        "    if len(clean_error) > 0:\n",
        "        all_errors.append(clean_error)\n",
        "        labels.append(name)\n",
        "\n",
        "if len(all_errors) > 0:\n",
        "    plt.boxplot(all_errors, labels=labels, patch_artist=True,\n",
        "                boxprops=dict(facecolor='lightblue', color='darkblue'),\n",
        "                medianprops=dict(color='red'))\n",
        "    plt.axhline(y=0, color='r', linestyle='--')\n",
        "    plt.title('Distribuição Comparativa de Erros (DHI)', fontsize=14)\n",
        "    plt.ylabel('Erro (W/m²)', fontsize=12)\n",
        "    plt.xticks(rotation=45)\n",
        "    plt.grid(True, alpha=0.3)\n",
        "    plt.tight_layout()\n",
        "    plt.show()\n",
        "else:\n",
        "    print(\"\\nAviso: Não há dados válidos para gerar o boxplot comparativo.\")"
      ],
      "metadata": {
        "id": "5NCndlwBRFpa"
      },
      "execution_count": null,
      "outputs": []
    },
    {
      "cell_type": "markdown",
      "source": [
        "Definido seguirmos com os dados de decomposição de Boland por terem menor RSME manor nesses 3 anos"
      ],
      "metadata": {
        "id": "pkSsnWzDcUX2"
      }
    },
    {
      "cell_type": "markdown",
      "source": [
        "#Comparando **DNI** - dos modelos **ERBS, DISC, BOLAND, DIRINT**"
      ],
      "metadata": {
        "id": "pTFlp_qNGrqJ"
      }
    },
    {
      "cell_type": "code",
      "source": [
        "# @title\n",
        "dni_erbs_diario = out_erbs['dni_erbs'].resample('D').mean()\n",
        "dni_dirint_diario = out_dirint['dni_dirint'].resample('D').mean()\n",
        "dni_disc_diario = out_disc['dni_disc'].resample('D').mean()\n",
        "dni_boland_diario = out_boland['dni_boland'].resample('D').mean()\n",
        "dni_medido_diario = df_weather['dni'].resample('D').mean()\n",
        "dni_nsrdb_diario = nsrdb_data_3Y['dni'].resample('D').mean()\n",
        "dni_clearsky_diario = clearsky['dni'].resample('D').mean()\n",
        "\n",
        "# --- Plotando as diferentes estimativas de DNI (MÉDIA DIÁRIA) ---\n",
        "plt.figure(figsize=(20, 6))\n",
        "dni_erbs_diario.plot(label='DNI Erbs ')\n",
        "dni_dirint_diario.plot(label='DNI Dirint ')\n",
        "dni_disc_diario.plot(label='DNI Disc ')\n",
        "dni_boland_diario.plot(label='DNI Boland ')\n",
        "dni_medido_diario.plot(label='Medido em campo ')\n",
        "dni_nsrdb_diario.plot(label='NSRDB ')\n",
        "dni_clearsky_diario.plot(label='Irradiação Direta Normal (DNI) de Céu Limpo', alpha=0.7)\n",
        "\n",
        "\n",
        "print(\"Valores acumulados para o período de 3 anos (DNI):\")\n",
        "\n",
        "print(f\"\\nValor acumulado de DNI para céu limpo: {clearsky['dni'].sum() / 1000:.2f} kWh/m²\")\n",
        "print(f\"Erbs: {out_erbs['dni_erbs'].sum()/1000:.2f} kWh/m²\")# Convertendo Wh para kWh\n",
        "print(f\"Dirint: {out_dirint['dni_dirint'].sum()/1000:.2f} kWh/m²\")\n",
        "print(f\"Disc: {out_disc['dni_disc'].sum()/1000:.2f} kWh/m²\")\n",
        "print(f\"Boland: {out_boland['dni_boland'].sum()/1000:.2f} kWh/m²\")\n",
        "print(f\"Medido: {df_weather['dni'].sum()/1000:.2f} kWh/m²\")\n",
        "\n",
        "# --- Configurações do gráfico ---\n",
        "plt.title('Comparação de Modelos de Irradiação Direta Normal (DNI) - Média Diária')\n",
        "plt.xlabel('Data')\n",
        "plt.ylabel('Irradiação Média Diária (W/m²)')\n",
        "plt.legend()\n",
        "plt.grid(True)\n",
        "plt.show()"
      ],
      "metadata": {
        "id": "iP6TxfxEGqI7",
        "collapsed": true
      },
      "execution_count": null,
      "outputs": []
    },
    {
      "cell_type": "code",
      "source": [
        "# @title\n",
        "import numpy as np\n",
        "import pandas as pd\n",
        "import matplotlib.pyplot as plt\n",
        "from sklearn.metrics import mean_squared_error, mean_absolute_error, r2_score\n",
        "from scipy.stats import gaussian_kde\n",
        "\n",
        "# Set the timezone for df_weather to match the model dataframes\n",
        "df_weather = df_weather.tz_convert('UTC')\n",
        "\n",
        "# Resample df_weather to hourly before daily sum\n",
        "df_weather_hourly = df_weather.resample('H').mean()\n",
        "\n",
        "# 1. Configuração dos Modelos (Incluindo NSRDB)\n",
        "models = {\n",
        "    'Erbs': out_erbs['dni_erbs'].resample('D').sum(),\n",
        "    'Dirint': out_dirint['dni_dirint'].resample('D').sum(),\n",
        "    'Disc': out_disc['dni_disc'].resample('D').sum(),\n",
        "    'Boland': out_boland['dni_boland'].resample('D').sum(),\n",
        "    # Removed 'Clearsky': clearsky['dhi'].resample('D').sum(),\n",
        "    # Adicionando o NSRDB para ser comparado com o Medido\n",
        "    'NSRDB': nsrdb_data_3Y['dni'].resample('D').sum()\n",
        "}\n",
        "\n",
        "# Dados medidos (referência)\n",
        "measured = df_weather_hourly['dni'].resample('D').sum() # Use the resampled hourly data\n",
        "\n",
        "# --- Debugging: Display index information ---\n",
        "print(\"Measured data index:\")\n",
        "print(measured.head())\n",
        "print(f\"Measured data frequency: {measured.index.freq}\")\n",
        "\n",
        "for name, model in models.items():\n",
        "    print(f\"\\n{name} model index:\")\n",
        "    print(model.head())\n",
        "    print(f\"{name} model frequency: {model.index.freq}\")\n",
        "# --- End Debugging ---\n",
        "\n",
        "# 2. Cálculo das métricas\n",
        "metrics = pd.DataFrame(columns=['RMSE (W/m²)', 'MAE (W/m²)', 'R²', 'Bias (W/m²)', 'Energia Total (kWh/m²)'])\n",
        "\n",
        "for name, model in models.items():\n",
        "    # Ensure both series have the same index before comparison\n",
        "    common_index = measured.index.intersection(model.index)\n",
        "    y_true = measured.loc[common_index]\n",
        "    y_pred = model.loc[common_index]\n",
        "\n",
        "    # Check if there are common data points\n",
        "    if common_index.empty:\n",
        "        print(f\"\\nWarning: No common data points between Measured and {name} model after resampling.\")\n",
        "        metrics.loc[name] = [np.nan] * 5 # Fill with NaN if no common data\n",
        "        continue\n",
        "\n",
        "    # Ajuste de Energia Total para kWh/m²\n",
        "    metrics.loc[name] = {\n",
        "        'RMSE (W/m²)': np.sqrt(mean_squared_error(y_true, y_pred)),\n",
        "        'MAE (W/m²)': mean_absolute_error(y_true, y_pred),\n",
        "        'R²': r2_score(y_true, y_pred),\n",
        "        'Bias (W/m²)': np.mean(y_pred - y_true),\n",
        "        'Energia Total (kWh/m²)': model.sum() / 1000  # Convertendo Wh/m² para kWh/m²\n",
        "    }\n",
        "\n",
        "# Adicionando dados medidos (referência)\n",
        "metrics.loc['Medido'] = {\n",
        "    'RMSE (W/m²)': np.nan,\n",
        "    'MAE (W/m²)': np.nan,\n",
        "    'R²': np.nan,\n",
        "    'Bias (W/m²)': np.nan,\n",
        "    'Energia Total (kWh/m²)': measured.sum() / 1000\n",
        "}\n",
        "\n",
        "# 3. Exibição das métricas com formatação\n",
        "pd.set_option('display.float_format', '{:.2f}'.format)\n",
        "print(\"\\n=== Métricas de Desempenho (DHI vs Medido em Campo) ===\")\n",
        "print(metrics)\n",
        "print(\"\\n\")\n",
        "\n",
        "# --- GRÁFICOS ---\n",
        "# The number of models is now 5, so the subplot layout needs adjustment.\n",
        "# Let's use a 3x2 layout, leaving one spot empty.\n",
        "\n",
        "# 4. Gráficos de dispersão com ajuste linear\n",
        "plt.figure(figsize=(15, 15)) # Aumentando o tamanho para 6 gráficos\n",
        "for i, (name, model) in enumerate(models.items(), 1):\n",
        "    plt.subplot(3, 2, i)\n",
        "\n",
        "    common_index = measured.index.intersection(model.index)\n",
        "    x = measured.loc[common_index]\n",
        "    y = model.loc[common_index]\n",
        "\n",
        "    # Check if there are common data points for plotting\n",
        "    if common_index.empty:\n",
        "        print(f\"\\nWarning: No common data points for plotting {name} model.\")\n",
        "        plt.title(f\"{name} vs Medido\\nNo common data\", fontsize=12)\n",
        "        plt.xlabel('DHI Medido (W/m²)', fontsize=10)\n",
        "        plt.ylabel(f'{name} (W/m²)', fontsize=10)\n",
        "        plt.grid(True, alpha=0.3)\n",
        "        continue\n",
        "\n",
        "\n",
        "    plt.scatter(x, y, alpha=0.3, color=plt.cm.tab10(i-1))\n",
        "    plt.plot([0, max(x)], [0, max(x)], 'r--', label='Linha 1:1')\n",
        "\n",
        "    # Para evitar erros de ajuste com pouquíssimos dados\n",
        "    if len(x) > 1:\n",
        "        coef = np.polyfit(x, y, 1)\n",
        "        poly1d_fn = np.poly1d(coef)\n",
        "        plt.plot(x, poly1d_fn(x), 'k-', label=f'Ajuste: y={coef[0]:.2f}x+{coef[1]:.2f}')\n",
        "    else:\n",
        "        print(f\"Aviso: Não há dados suficientes para ajuste linear em {name}.\")\n",
        "\n",
        "\n",
        "    plt.xlabel('DHI Medido (W/m²)', fontsize=10)\n",
        "    plt.ylabel(f'{name} (W/m²)', fontsize=10)\n",
        "    plt.title(f'{name} vs Medido\\nR² = {metrics.loc[name, \"R²\"]:.2f}', fontsize=12)\n",
        "    plt.legend(fontsize=9)\n",
        "    plt.grid(True, alpha=0.3)\n",
        "\n",
        "plt.tight_layout()\n",
        "plt.show()\n",
        "\n",
        "# 5. Análise de distribuição de erros\n",
        "plt.figure(figsize=(15, 15)) # Aumentando o tamanho para 6 gráficos\n",
        "for i, (name, model) in enumerate(models.items(), 1):\n",
        "    ax = plt.subplot(3, 2, i)\n",
        "\n",
        "    common_index = measured.index.intersection(model.index)\n",
        "    error = model.loc[common_index] - measured.loc[common_index]\n",
        "\n",
        "\n",
        "    # Tratamento de dados inválidos\n",
        "    clean_error = error.replace([np.inf, -np.inf], np.nan).dropna()\n",
        "\n",
        "    if len(clean_error) == 0:\n",
        "        print(f\"\\nAviso: Não há dados válidos para {name}. Pulando gráfico.\")\n",
        "        ax.axis('off')\n",
        "        continue\n",
        "\n",
        "    # Histograma com densidade\n",
        "    n, bins, patches = ax.hist(clean_error, bins=50, density=True,\n",
        "                               alpha=0.7, color=plt.cm.tab10(i-1))\n",
        "\n",
        "    # Linhas de referência\n",
        "    ax.axvline(x=0, color='r', linestyle='--', linewidth=1)\n",
        "    current_bias = np.mean(clean_error)\n",
        "    ax.axvline(x=current_bias, color='k',\n",
        "               linestyle='-', linewidth=1.5, label=f'Bias: {current_bias:.2f}')\n",
        "\n",
        "    # Curva KDE\n",
        "    try:\n",
        "        kde = gaussian_kde(clean_error)\n",
        "        x_vals = np.linspace(min(clean_error), max(clean_error), 100)\n",
        "        ax.plot(x_vals, kde(x_vals), 'b-', linewidth=1.5)\n",
        "    except Exception as e:\n",
        "        print(f\"\\nAviso: Não foi possível calcular KDE para {name}. Erro: {str(e)}\")\n",
        "\n",
        "    ax.set_title(f'Distribuição de Erros - {name}', fontsize=12)\n",
        "    ax.set_xlabel('Erro (W/m²)', fontsize=10)\n",
        "    ax.set_ylabel('Densidade', fontsize=10)\n",
        "    ax.legend(fontsize=9)\n",
        "    ax.grid(True, alpha=0.3)\n",
        "\n",
        "plt.tight_layout()\n",
        "plt.show()\n",
        "\n",
        "# 6. Boxplot comparativo de erros\n",
        "plt.figure(figsize=(12, 6))\n",
        "all_errors = []\n",
        "labels = []\n",
        "for name, model in models.items():\n",
        "    common_index = measured.index.intersection(model.index)\n",
        "    error = model.loc[common_index] - measured.loc[common_index]\n",
        "    clean_error = error.replace([np.inf, -np.inf], np.nan).dropna()\n",
        "\n",
        "    if len(clean_error) > 0:\n",
        "        all_errors.append(clean_error)\n",
        "        labels.append(name)\n",
        "\n",
        "if len(all_errors) > 0:\n",
        "    plt.boxplot(all_errors, labels=labels, patch_artist=True,\n",
        "                boxprops=dict(facecolor='lightblue', color='darkblue'),\n",
        "                medianprops=dict(color='red'))\n",
        "    plt.axhline(y=0, color='r', linestyle='--')\n",
        "    plt.title('Distribuição Comparativa de Erros (DHI)', fontsize=14)\n",
        "    plt.ylabel('Erro (W/m²)', fontsize=12)\n",
        "    plt.xticks(rotation=45)\n",
        "    plt.grid(True, alpha=0.3)\n",
        "    plt.tight_layout()\n",
        "    plt.show()\n",
        "else:\n",
        "    print(\"\\nAviso: Não há dados válidos para gerar o boxplot comparativo.\")"
      ],
      "metadata": {
        "id": "9B9hjIm4TOT0",
        "collapsed": true
      },
      "execution_count": null,
      "outputs": []
    },
    {
      "cell_type": "markdown",
      "source": [
        "Definido seguirmos com os dados de decomposição de Boland por terem menor RSME manor nesses 3 anos"
      ],
      "metadata": {
        "id": "hLV3E4p0Qo6F"
      }
    },
    {
      "cell_type": "markdown",
      "source": [
        "#**AOI** - Angle of Incidence - Ângulo de Incidência"
      ],
      "metadata": {
        "id": "GJHvBhx8cKPg"
      }
    },
    {
      "cell_type": "code",
      "source": [
        "# @title\n",
        "# --------------------------------------------\n",
        "# 1) Definições do local e horário\n",
        "# --------------------------------------------\n",
        "latitude = 36.107        # Latitude de Las Vegas (exemplo)\n",
        "longitude = -115.1425    # Longitude de Las Vegas\n",
        "tz = 'America/Los_Angeles'  # Fuso horário local correto\n",
        "\n",
        "# Ângulos da superfície\n",
        "tilt = 34                      # Inclinação do painel (graus)\n",
        "surface_azimuth = 180          # Sul (180°)\n",
        "\n",
        "# --------------------------------------------\n",
        "# 2) AOI para um instante específico\n",
        "# --------------------------------------------\n",
        "date = pd.Timestamp('2021-01-01 10:30:00', tz=tz)\n",
        "\n",
        "# Calcula a posição solar\n",
        "solar_position = pvlib.solarposition.get_solarposition(time=date,\n",
        "                                                       latitude=latitude,\n",
        "                                                       longitude=longitude)\n",
        "\n",
        "# Calcula o Ângulo de Incidência (AOI)\n",
        "aoi = pvlib.irradiance.aoi(surface_tilt=tilt,\n",
        "                           surface_azimuth=surface_azimuth,\n",
        "                           solar_zenith=solar_position['zenith'],\n",
        "                           solar_azimuth=solar_position['azimuth'])\n",
        "\n",
        "# Exibe os resultados\n",
        "aoi_deg = aoi.iloc[0]  # valor numérico do AOI\n",
        "print(\"AOI (instantâneo):\", round(aoi_deg, 2), \"graus\")\n",
        "print(aoi)             # mostra também com índice temporal"
      ],
      "metadata": {
        "id": "7ky0hV65dxNx",
        "cellView": "form",
        "collapsed": true
      },
      "execution_count": null,
      "outputs": []
    },
    {
      "cell_type": "code",
      "source": [
        "# @title\n",
        "\n",
        "\n",
        "start = '2019-01-01'\n",
        "end = '2021-12-31'\n",
        "\n",
        "#Vamos variar o AOI ao longo do dia\n",
        "site = location.Location(latitude, longitude, tz=tz)\n",
        "times = pd.date_range(start, end, freq='1D', tz=site.tz)\n",
        "\n",
        "# Ângulos da superfície\n",
        "tilt = 34  # inclinação da superfície\n",
        "surface_azimuth = 180   #  graus oeste do sul (Sul é 180 graus)\n",
        "\n",
        "# Calcula a posição solar\n",
        "solar_position = pvlib.solarposition.get_solarposition(time=times, latitude=latitude, longitude=longitude)\n",
        "\n",
        "# Calcula o ângulo de incidência\n",
        "aoi = pvlib.irradiance.aoi(surface_tilt=tilt,\n",
        "                           surface_azimuth=surface_azimuth,\n",
        "                           solar_zenith=solar_position['zenith'],\n",
        "                           solar_azimuth=solar_position['azimuth'])\n",
        "\n",
        "aoi.plot(figsize=(20,6))\n",
        "\n",
        "\n",
        "plt.title('Ângulo de Incidência (AOI) ao longo do ano - Las Vegas')\n",
        "plt.ylabel('aoi [graus]')\n",
        "plt.xlabel('Data')\n",
        "plt.grid(True)\n",
        "plt.legend()\n",
        "plt.show()"
      ],
      "metadata": {
        "id": "bGBe3QWN-ShQ",
        "cellView": "form",
        "collapsed": true
      },
      "execution_count": null,
      "outputs": []
    },
    {
      "cell_type": "markdown",
      "source": [
        "# **IAM**"
      ],
      "metadata": {
        "id": "mjFlxFsY27lX"
      }
    },
    {
      "cell_type": "code",
      "source": [
        "# @title\n",
        "#3. Calcula o fator de perda por ângulo de incidência\n",
        "iam = pvlib.iam.physical(aoi)\n",
        "print(iam)"
      ],
      "metadata": {
        "id": "xAqElUAd2OG6",
        "collapsed": true
      },
      "execution_count": null,
      "outputs": []
    },
    {
      "cell_type": "markdown",
      "source": [
        "# **POA** -(Plane of Array) Cálculo de Irradiância no Plano do Módulo - em um Sistema com Instalação Fixa"
      ],
      "metadata": {
        "id": "d3Vn52mNcJRc"
      }
    },
    {
      "cell_type": "code",
      "source": [
        "# @title\n",
        "solar_zenith = solar_position['zenith']\n",
        "solar_azimuth = solar_position['azimuth']\n",
        "\n",
        "dni = out_boland['dni_boland']\n",
        "ghi = nsrdb_data_3Y['ghi']\n",
        "dhi = out_boland['dhi_boland']\n",
        "\n",
        "dni_extra = pvlib.irradiance.get_extra_radiation(df_weather.index)\n",
        "\n",
        "airmass_relative = pvlib.atmosphere.get_relative_airmass(solar_position['apparent_zenith'])\n",
        "\n",
        "pressure = pvlib.atmosphere.alt2pres(altitude = latitude) # Assuming altitude is related to latitude for this context, though ideally it would be a separate altitude value.\n",
        "\n",
        "airmass = pvlib.atmosphere.get_absolute_airmass(airmass_relative, pressure)"
      ],
      "metadata": {
        "id": "gUIErw0Mc1aY"
      },
      "execution_count": null,
      "outputs": []
    },
    {
      "cell_type": "markdown",
      "source": [
        "Definir melhor angulo de inclinação - Inserir Range"
      ],
      "metadata": {
        "id": "59qjGH_jcpT7"
      }
    },
    {
      "cell_type": "code",
      "source": [
        "# @title\n",
        "albedo = 0.20\n",
        "surface_azimuth = 180  # supondo face sul (ou ajuste conforme seu arranjo)\n",
        "model = 'perez'        # costuma ser melhor que 'isotropic' para inclinações variadas\n",
        "\n",
        "# faixa de tilt a varrer (0 a 90°, passo 1°)\n",
        "tilts = np.arange(0, 91, 1)\n"
      ],
      "metadata": {
        "id": "Nnh6-6Dsg6k0",
        "cellView": "form"
      },
      "execution_count": null,
      "outputs": []
    },
    {
      "cell_type": "markdown",
      "source": [
        "Executa os calculos variando de Graus em Graus até achar o melhor angulo e em seguida plota ele nos 3 anos - (normalmente o valor é proximo do valor da latitude do local)"
      ],
      "metadata": {
        "id": "K-TvhqUiix2L"
      }
    },
    {
      "cell_type": "code",
      "source": [
        "# @title\n",
        "# Recalculate dni_extra using the correct hourly index\n",
        "dni_extra = pvlib.irradiance.get_extra_radiation(nsrdb_data_3Y.index)\n",
        "\n",
        "# Recalculate solar_position, airmass, and pressure using the hourly index\n",
        "site = location.Location(latitude, longitude, tz=tz)\n",
        "solar_position = site.get_solarposition(nsrdb_data_3Y.index)\n",
        "airmass_relative = pvlib.atmosphere.get_relative_airmass(solar_position['apparent_zenith'])\n",
        "# Assuming altitude is a single value, apply it to the hourly index\n",
        "pressure = pvlib.atmosphere.alt2pres(altitude=altitude) # Use the previously defined altitude\n",
        "\n",
        "airmass = pvlib.atmosphere.get_absolute_airmass(airmass_relative, pressure)\n",
        "\n",
        "# function to calculate annual POA energy (or irradiance sum)\n",
        "def compute_total_poa_for_tilt(tilt):\n",
        "    poa = pvlib.irradiance.get_total_irradiance(\n",
        "        surface_tilt=tilt,\n",
        "        surface_azimuth=surface_azimuth,\n",
        "        solar_zenith=solar_position['zenith'],\n",
        "        solar_azimuth=solar_position['azimuth'],\n",
        "        dni=dni,\n",
        "        ghi=ghi,\n",
        "        dhi=dhi,\n",
        "        dni_extra=dni_extra,\n",
        "        airmass=airmass,\n",
        "        albedo=albedo,\n",
        "        model=model,\n",
        "        model_perez='allsitescomposite1990'\n",
        "    )['poa_global']['poa_direct']['poa_diffuse']\n",
        "\n",
        "    # align indices if necessary and remove NaNs\n",
        "    poa = poa.reindex(ghi.index).fillna(0)\n",
        "\n",
        "    # simple sum of irradiance (Wh/m2 if hourly series -> sum * 1h = Wh/m2)\n",
        "    # if your series has another resolution, adjust: energy = poa.sum() * (res_hours)\n",
        "    total = poa.sum()\n",
        "    return total, poa\n",
        "\n",
        "# sweeping tilts\n",
        "results = []\n",
        "poa_series_by_tilt = {}\n",
        "for t in tilts:\n",
        "    total, poa_series = compute_total_poa_for_tilt(t)\n",
        "    results.append(total)\n",
        "    poa_series_by_tilt[t] = poa_series\n",
        "\n",
        "results = np.array(results)\n",
        "\n",
        "# find optimal tilt\n",
        "best_idx = results.argmax()\n",
        "best_tilt = tilts[best_idx]\n",
        "best_value = results[best_idx]\n",
        "\n",
        "print(f\"Optimal tilt (max cumulative POA): {best_tilt}°  -> sum POA = {best_value:.0f} (units = W·h/m² if hourly series)\")\n",
        "\n",
        "# graph: cumulative energy vs tilt\n",
        "plt.figure(figsize=(10,5))\n",
        "plt.plot(tilts, results, marker='o')\n",
        "plt.axvline(best_tilt, color='red', linestyle='--', label=f'Optimal = {best_tilt}°')\n",
        "plt.title('Soma de POA vs Tilt (ângulo de inclinação dos painéis solares em relação à superfície horizontal)')\n",
        "plt.xlabel('Tilt (°)')\n",
        "plt.ylabel('Soma de POA (unidades de POA horária somadas)')\n",
        "plt.grid(True)\n",
        "plt.legend()\n",
        "plt.show()\n",
        "\n",
        "print (ghi)\n",
        "\n",
        "# optional: compare hourly POA series (optimal tilt) x GHI\n",
        "poa_best = poa_series_by_tilt[best_tilt].reindex(ghi.index).fillna(0)\n",
        "plt.figure(figsize=(16,6))\n",
        "poa_best.plot(label=f'POA (tilt={best_tilt}°)', linewidth=1.2)\n",
        "ghi.plot(label='GHI', linewidth=1.0)\n",
        "plt.title('Comparison POA (optimal tilt) vs GHI')\n",
        "plt.xlabel('Data')\n",
        "plt.ylabel('Irradiance (W/m²)')\n",
        "plt.legend()\n",
        "plt.grid(True)\n",
        "plt.show()"
      ],
      "metadata": {
        "id": "vuL3VsTKf8Im",
        "collapsed": true
      },
      "execution_count": null,
      "outputs": []
    },
    {
      "cell_type": "code",
      "source": [
        "# @title\n",
        "poa.keys()\n"
      ],
      "metadata": {
        "id": "YRHi7iE-wHWt",
        "cellView": "form",
        "collapsed": true
      },
      "execution_count": null,
      "outputs": []
    },
    {
      "cell_type": "markdown",
      "source": [
        "Melhor angulo 34 graus"
      ],
      "metadata": {
        "id": "ladXAjy4knFQ"
      }
    },
    {
      "cell_type": "code",
      "source": [
        "# @title\n",
        "# Extrai a irradiância global no plano do arranjo\n",
        "poa = poa_best\n",
        "ghi = nsrdb_data_3Y['ghi']  # Mantém referência à GHI original\n",
        "\n",
        "# 3. CÁLCULO DE MÉTRICAS COMPARATIVAS\n",
        "\n",
        "metrics = {\n",
        "    'Máximo (W/m²)': [poa.max(), ghi.max()],\n",
        "    'Média (W/m²)': [poa.mean(), ghi.mean()],\n",
        "    'Energia Total (kWh/m²)': [poa.sum()/1000, ghi.sum()/1000]\n",
        "}\n",
        "\n",
        "metrics_df = pd.DataFrame(metrics, index=['POA', 'GHI'])\n",
        "\n",
        "# Exibe as métricas formatadas\n",
        "print(\"\\n=== Métricas Comparativas ===\")\n",
        "print(metrics_df.to_string(float_format=lambda x: f\"{x:.2f} \"))\n",
        "\n",
        "\n",
        "# 4. ANÁLISE DIÁRIA DA RAZÃO POA/GHI\n",
        "\n",
        "if len(poa) > 24:  # Verifica se há dados suficientes (pelo menos 1 dia)\n",
        "    daily_poa = poa.resample('D').sum()/1000  # Energia diária POA (kWh/m²)\n",
        "    daily_ghi = ghi.resample('D').sum()/1000  # Energia diária GHI (kWh/m²)\n",
        "    daily_ratio = daily_poa/daily_ghi         # Razão diária POA/GHI\n",
        "\n",
        "    plt.figure(figsize=(12, 4))\n",
        "    daily_ratio.plot(color='green', linewidth=1.5, label='Razão POA/GHI')\n",
        "    plt.axhline(y=1, color='r', linestyle='--', label='Razão = 1')\n",
        "    plt.title('Variação Diária da Razão POA/GHI', fontsize=14)\n",
        "    plt.ylabel('Razão POA/GHI', fontsize=12)\n",
        "    plt.xlabel('Data', fontsize=12)\n",
        "    plt.legend(fontsize=11)\n",
        "    plt.grid(True, alpha=0.3)\n",
        "    plt.tight_layout()\n",
        "    plt.show()\n",
        "else:\n",
        "    print(\"\\nDados insuficientes para análise diária (mínimo 24 horas requeridas)\")"
      ],
      "metadata": {
        "id": "oYObkwGB2i78"
      },
      "execution_count": null,
      "outputs": []
    },
    {
      "cell_type": "markdown",
      "source": [
        "# Modelos de temperatura do modulo"
      ],
      "metadata": {
        "id": "zTdb9gcZcK3y"
      }
    },
    {
      "cell_type": "code",
      "source": [
        "# @title\n",
        "PV_Cell_Temperature_Sandia = pvlib.temperature.sapm_cell(poa_global = poa, temp_air = nsrdb_data_3Y['temp_air'],\n",
        "                                                         wind_speed = nsrdb_data_3Y['wind_speed'],\n",
        "                                                         a = -3.47, b = -0.0594, deltaT = 3,\n",
        "                                                         irrad_ref=1000.0)\n",
        "\n",
        "PV_Cell_Temperature_PVsyst = pvlib.temperature.pvsyst_cell(poa_global = poa, temp_air = nsrdb_data_3Y['temp_air'],\n",
        "                                                           wind_speed = nsrdb_data_3Y['wind_speed'],\n",
        "                                                           u_c = 29.0, u_v=0.0, module_efficiency=0.1701,\n",
        "                                                           alpha_absorption=0.9)\n",
        "\n",
        "PV_Cell_Temperature_NOCT = pvlib.temperature.ross(poa_global = poa,\n",
        "                                                  temp_air = nsrdb_data_3Y['temp_air'],\n",
        "                                                  noct = 45)\n",
        "\n",
        "PV_Cell_Temperature_Fainman = pvlib.temperature.faiman(poa_global = poa, temp_air = nsrdb_data_3Y['temp_air'],\n",
        "                                                       wind_speed= nsrdb_data_3Y['wind_speed'],\n",
        "                                                       u0=25.0, u1=6.84)\n",
        "\n",
        "\n",
        "\n",
        "PV_Cell_Temperature_Sandia.plot(label='Sandia PV Cell Temperature Model', figsize = (20,6))\n",
        "PV_Cell_Temperature_PVsyst.plot(label='PVsyst PV Cell Temperature Model')\n",
        "PV_Cell_Temperature_NOCT.plot(label='NOCT PV Cell Temperature Model')\n",
        "PV_Cell_Temperature_Fainman.plot(label = 'Fainman PV Cell Temperature Model')\n",
        "plt.legend()\n"
      ],
      "metadata": {
        "id": "W2PsXCfhJwji",
        "cellView": "form"
      },
      "execution_count": null,
      "outputs": []
    },
    {
      "cell_type": "code",
      "source": [
        "# @title\n",
        "import matplotlib.pyplot as plt\n",
        "\n",
        "# === Escolha o intervalo de 10 dias ===\n",
        "# Exemplo:\n",
        "start_date = '2021-01-10'\n",
        "end_date = '2021-01-20'\n",
        "\n",
        "# === Selecionar o intervalo ===\n",
        "mask = (nsrdb_data_3Y.index >= start_date) & (nsrdb_data_3Y.index <= end_date)\n",
        "\n",
        "sandia_10d = PV_Cell_Temperature_Sandia[mask]\n",
        "pvsyst_10d = PV_Cell_Temperature_PVsyst[mask]\n",
        "noct_10d = PV_Cell_Temperature_NOCT[mask]\n",
        "faiman_10d = PV_Cell_Temperature_Fainman[mask]\n",
        "\n",
        "# === Plotar os 4 modelos no mesmo gráfico ===\n",
        "plt.figure(figsize=(20, 6))\n",
        "plt.plot(sandia_10d, label='Sandia PV Cell Temperature Model', linewidth=2)\n",
        "plt.plot(pvsyst_10d, label='PVsyst PV Cell Temperature Model', linewidth=2)\n",
        "plt.plot(noct_10d, label='NOCT PV Cell Temperature Model', linewidth=2)\n",
        "plt.plot(faiman_10d, label='Faiman PV Cell Temperature Model', linewidth=2)\n",
        "\n",
        "# === Personalizar ===\n",
        "plt.title(f'Comparação da Temperatura da Célula PV ({start_date} a {end_date})', fontsize=14)\n",
        "plt.xlabel('Data')\n",
        "plt.ylabel('Temperatura da Célula (°C)')\n",
        "plt.legend()\n",
        "plt.grid(True)\n",
        "plt.tight_layout()\n",
        "plt.show()"
      ],
      "metadata": {
        "id": "zs_2hNrANQjI",
        "cellView": "form",
        "collapsed": true
      },
      "execution_count": null,
      "outputs": []
    },
    {
      "cell_type": "code",
      "source": [
        "# @title\n",
        "#Influência de Parâmetros para a Modelagem de Temperatura\n",
        "#Pedir para plotarem os gráficos com\n",
        "import matplotlib.pyplot as plt\n",
        "\n",
        "# Criar figura com 4 subplots\n",
        "fig, axes = plt.subplots(nrows=4, ncols=1, figsize=(20, 20))\n",
        "\n",
        "# Ajustar espaçamento entre subplots\n",
        "plt.subplots_adjust(hspace=0.4)\n",
        "\n",
        "# Gráfico 1: poa.plot()\n",
        "poa.plot(ax=axes[0], title='POA (Plane of Array) Irradiance', color='orange')\n",
        "axes[0].set_ylabel('Irradiance (W/m²)')\n",
        "axes[0].grid(True)\n",
        "\n",
        "# Gráfico 2: Temperatura do ar\n",
        "nsrdb_data_3Y['temp_air'].plot(ax=axes[1], title='Air Temperature', color='red')\n",
        "axes[1].set_ylabel('Temperature (°C)')\n",
        "axes[1].grid(True)\n",
        "\n",
        "# Gráfico 3: Velocidade do vento\n",
        "nsrdb_data_3Y['wind_speed'].plot(ax=axes[2], title='Wind Speed', color='blue')\n",
        "axes[2].set_ylabel('Speed (m/s)')\n",
        "axes[2].grid(True)\n",
        "\n",
        "# Gráfico 4: Temperatura da célula PV\n",
        "PV_Cell_Temperature_Sandia.plot(ax=axes[3], title='PV Cell Temperature (Sandia Model)', color='purple')\n",
        "axes[3].set_ylabel('Temperature (°C)')\n",
        "axes[3].grid(True)\n",
        "\n",
        "# Ajustar layout\n",
        "plt.tight_layout()\n",
        "plt.show()\n"
      ],
      "metadata": {
        "id": "0y2a6vbiKUSi",
        "collapsed": true
      },
      "execution_count": null,
      "outputs": []
    },
    {
      "cell_type": "code",
      "source": [
        "# @title\n",
        "import matplotlib.pyplot as plt\n",
        "\n",
        "# === Defina o período de 10 dias que você quer visualizar ===\n",
        "# Exemplo:\n",
        "start_date = '2021-01-10'\n",
        "end_date = '2021-01-20'\n",
        "\n",
        "# === Selecionar o intervalo de 10 dias ===\n",
        "mask = (nsrdb_data_3Y.index >= start_date) & (nsrdb_data_3Y.index <= end_date)\n",
        "\n",
        "poa_10d = poa[mask]\n",
        "temp_air_10d = nsrdb_data_3Y['temp_air'][mask]\n",
        "wind_speed_10d = nsrdb_data_3Y['wind_speed'][mask]\n",
        "sandia_10d = PV_Cell_Temperature_Sandia[mask]\n",
        "pvsyst_10d = PV_Cell_Temperature_PVsyst[mask]\n",
        "noct_10d = PV_Cell_Temperature_NOCT[mask]\n",
        "faiman_10d = PV_Cell_Temperature_Fainman[mask]\n",
        "\n",
        "# === Criar figura com 4 subplots ===\n",
        "fig, axes = plt.subplots(nrows=4, ncols=1, figsize=(20, 20))\n",
        "plt.subplots_adjust(hspace=0.4)\n",
        "\n",
        "# Gráfico 1: Irradiância no plano do módulo (POA)\n",
        "poa_10d.plot(ax=axes[0], color='orange', title=f'POA Irradiance ({start_date} a {end_date})')\n",
        "axes[0].set_ylabel('Irradiance (W/m²)')\n",
        "axes[0].grid(True)\n",
        "\n",
        "# Gráfico 2: Temperatura do ar\n",
        "temp_air_10d.plot(ax=axes[1], color='red', title='Air Temperature')\n",
        "axes[1].set_ylabel('Temperature (°C)')\n",
        "axes[1].grid(True)\n",
        "\n",
        "# Gráfico 3: Velocidade do vento\n",
        "wind_speed_10d.plot(ax=axes[2], color='blue', title='Wind Speed')\n",
        "axes[2].set_ylabel('Speed (m/s)')\n",
        "axes[2].grid(True)\n",
        "\n",
        "# Gráfico 4: Temperatura da célula PV (comparação entre modelos)\n",
        "axes[3].plot(sandia_10d, label='Sandia', color='purple')\n",
        "axes[3].plot(pvsyst_10d, label='PVsyst', color='green')\n",
        "axes[3].plot(noct_10d, label='NOCT', color='orange')\n",
        "axes[3].plot(faiman_10d, label='Faiman', color='blue')\n",
        "axes[3].set_title('PV Cell Temperature (10-Day Comparison)')\n",
        "axes[3].set_ylabel('Temperature (°C)')\n",
        "axes[3].legend()\n",
        "axes[3].grid(True)\n",
        "\n",
        "plt.tight_layout()\n",
        "plt.show()\n"
      ],
      "metadata": {
        "id": "PBE1kbmcL2Ab",
        "cellView": "form",
        "collapsed": true
      },
      "execution_count": null,
      "outputs": []
    },
    {
      "cell_type": "code",
      "source": [
        "# @title\n",
        "#Sem influência da Temperatura\n",
        "P_gen = eff_ref * A_c * poa"
      ],
      "metadata": {
        "id": "YORoKrJAMo5g",
        "collapsed": true
      },
      "execution_count": null,
      "outputs": []
    },
    {
      "cell_type": "markdown",
      "source": [
        "foi escolhido o PVsyst para perdas de temperatura"
      ],
      "metadata": {
        "id": "fAHH_tFMNdt8"
      }
    },
    {
      "cell_type": "code",
      "source": [
        "# @title\n",
        "#Com influência da Temperatura (deixa o pessoal fazer)\n",
        "P_gen_temp = eff_ref * A_c * poa * (1 + (-0.0038)*(PV_Cell_Temperature_PVsyst - 25))"
      ],
      "metadata": {
        "id": "R_qc0AcfMqjs",
        "collapsed": true
      },
      "execution_count": null,
      "outputs": []
    },
    {
      "cell_type": "code",
      "source": [
        "# @title\n",
        "plt.figure(figsize=(20,6))\n",
        "plt.plot(P_gen, label='Potência Gerada (Modelo Base)')\n",
        "plt.plot(P_gen_temp, label='Potência Gerada (Com Correção de Temperatura)')\n",
        "plt.title('Comparação da Potência Gerada')\n",
        "plt.xlabel('Data')\n",
        "plt.ylabel('Potência (W)')\n",
        "plt.legend()\n",
        "plt.grid(True)\n",
        "plt.tight_layout()\n",
        "plt.show()"
      ],
      "metadata": {
        "id": "-m10283iNtta",
        "cellView": "form",
        "collapsed": true
      },
      "execution_count": null,
      "outputs": []
    },
    {
      "cell_type": "markdown",
      "source": [
        "# CURVA IV"
      ],
      "metadata": {
        "id": "qAXSuAVKAMgQ"
      }
    },
    {
      "cell_type": "code",
      "source": [],
      "metadata": {
        "id": "nBLej1nmL9v5"
      },
      "execution_count": null,
      "outputs": []
    },
    {
      "cell_type": "markdown",
      "source": [
        "## Funções para Extração de Parâmetros e Resolução da Equação Característica da Curva IV (De Soto)"
      ],
      "metadata": {
        "id": "Xiq-_QQXPaIE"
      }
    },
    {
      "cell_type": "code",
      "source": [
        "# @title\n",
        "from pvlib import pvsystem\n",
        "from scipy.constants import Boltzmann, elementary_charge"
      ],
      "metadata": {
        "id": "6OmttTbzSFB4",
        "cellView": "form"
      },
      "execution_count": null,
      "outputs": []
    },
    {
      "cell_type": "code",
      "source": [
        "# @title\n",
        "def desotorefparameters(Vmp, Imp, Voc, Isc, alpha, beta, Ns, EgRef, dEgdT, Tref, Gref):\n",
        "    desoto_fit_params = pvlib.ivtools.sdm.fit_desoto(Vmp,\n",
        "                                                     Imp,\n",
        "                                                     Voc,\n",
        "                                                     Isc,\n",
        "                                                     alpha,\n",
        "                                                     beta,\n",
        "                                                     Ns,\n",
        "                                                     EgRef,\n",
        "                                                     dEgdT,\n",
        "                                                     Tref,\n",
        "                                                     Gref,\n",
        "                                                     root_kwargs = {'method': 'lm', 'options':{'maxiter':10000, 'xtol': 1e-3, 'gtol': 1e-3}})\n",
        "    desoto_fit_params[0]\n",
        "\n",
        "    fitted_params = desoto_fit_params[0]\n",
        "\n",
        "    desoto_params_dict = fitted_params\n",
        "\n",
        "    results_df_desoto = pd.DataFrame(columns = ['a_ref', 'Ipv_ref', 'Io_ref', 'Rp_ref', 'R_s'])\n",
        "\n",
        "    results_df_desoto.loc[1] = [desoto_params_dict['a_ref'], desoto_params_dict['I_L_ref'], desoto_params_dict['I_o_ref'],\n",
        "                                desoto_params_dict['R_sh_ref'], desoto_params_dict['R_s']]\n",
        "    return(results_df_desoto)"
      ],
      "metadata": {
        "id": "1o5STV3xPfzV",
        "cellView": "form"
      },
      "execution_count": null,
      "outputs": []
    },
    {
      "cell_type": "code",
      "source": [
        "# @title\n",
        "def desotoparametersopc(irrad, temp_cell, alpha, a_ref, Ipv_ref, Io_ref, Rp_ref, R_s, EgRef, dEgdT, Gref, Tref, method = 'lambertw', number_of_points = 100):\n",
        "    diode_params_desoto = pvlib.pvsystem.calcparams_desoto(irrad,\n",
        "                                                          temp_cell,\n",
        "                                                          alpha,\n",
        "                                                          a_ref,\n",
        "                                                          Ipv_ref,\n",
        "                                                          Io_ref,\n",
        "                                                          Rp_ref,\n",
        "                                                          R_s,\n",
        "                                                          EgRef,\n",
        "                                                          dEgdT,\n",
        "                                                          Gref,\n",
        "                                                          Tref)\n",
        "    SDE_params = {\n",
        "        'photocurrent': diode_params_desoto[0],\n",
        "        'saturation_current': diode_params_desoto[1],\n",
        "        'resistance_series': diode_params_desoto[2],\n",
        "        'resistance_shunt': diode_params_desoto[3],\n",
        "        'nNsVth': diode_params_desoto[4]\n",
        "    }\n",
        "\n",
        "    curve_info = pvsystem.singlediode(method=method, **SDE_params)\n",
        "    v = pd.DataFrame(np.linspace(0, curve_info['v_oc'], number_of_points))\n",
        "    i = pd.DataFrame(pvsystem.i_from_v(voltage=v, method=method, **SDE_params))\n",
        "\n",
        "    return ({'Key_Points': curve_info,\n",
        "             'Voltage': v,\n",
        "             'Current': i})"
      ],
      "metadata": {
        "id": "-7YI6iTePnN3",
        "cellView": "form"
      },
      "execution_count": null,
      "outputs": []
    },
    {
      "cell_type": "markdown",
      "source": [
        "##**CONSTANTES**"
      ],
      "metadata": {
        "id": "cjw1HkHLPrg4"
      }
    },
    {
      "cell_type": "code",
      "source": [
        "# @title\n",
        "#Constantes necessárias para a modelagem em STC\n",
        "EgRef=1.121 #Valence energy band-gap for Crystalline Silicon\n",
        "dEgdT=- 0.0002677 #\n",
        "Tref = 25 #Temperature (°C) under STC\n",
        "Gref = 1000 #Irradiance (W/m²) under STC\n",
        "k = Boltzmann\n",
        "q = elementary_charge"
      ],
      "metadata": {
        "id": "nksoNOKTPoSX",
        "cellView": "form"
      },
      "execution_count": null,
      "outputs": []
    },
    {
      "cell_type": "code",
      "source": [
        "# @title\n",
        "# Condições de Irradiância em STC (1000 W/m² e 25°C)\n",
        "irrad = 1000\n",
        "temp_cell = 25"
      ],
      "metadata": {
        "id": "UAbKAsw0P6ly",
        "cellView": "form"
      },
      "execution_count": null,
      "outputs": []
    },
    {
      "cell_type": "code",
      "source": [
        "# @title\n",
        "print(irrad)\n",
        "print(temp_cell)"
      ],
      "metadata": {
        "id": "o0l1WCaVUCYj",
        "cellView": "form",
        "collapsed": true
      },
      "execution_count": null,
      "outputs": []
    },
    {
      "cell_type": "markdown",
      "source": [
        "## extração de parametros curva IV"
      ],
      "metadata": {
        "id": "hzibKyFxQAR1"
      }
    },
    {
      "cell_type": "code",
      "source": [
        "# @title\n",
        "desoto_ref_parameters = desotorefparameters(Vmp, Imp, Voc, Isc, alpha, beta, Ns, EgRef, dEgdT, Tref, Gref)\n",
        "print('Os 5 parâmetros do SDM em STC')\n",
        "desoto_ref_parameters"
      ],
      "metadata": {
        "id": "7jB8ImwJQDAP",
        "cellView": "form",
        "collapsed": true
      },
      "execution_count": null,
      "outputs": []
    },
    {
      "cell_type": "markdown",
      "source": [
        "## Resolvendo a Equação Característica do SDM 5 P (Métodos do Lambert-W, Newton-Raphson e Bishop)"
      ],
      "metadata": {
        "id": "yVrZ6sYOQJjG"
      }
    },
    {
      "cell_type": "code",
      "source": [
        "# @title\n",
        "a_ref = desoto_ref_parameters['a_ref'][1]\n",
        "Ipv_ref = desoto_ref_parameters['Ipv_ref'][1]\n",
        "Io_ref = desoto_ref_parameters['Io_ref'][1]\n",
        "Rp_ref = desoto_ref_parameters['Rp_ref'][1]\n",
        "R_s = desoto_ref_parameters['R_s'][1]\n",
        "\n",
        "results = desotoparametersopc(irrad, temp_cell, alpha, a_ref, Ipv_ref, Io_ref, Rp_ref, R_s, EgRef, dEgdT, Gref, Tref, method = 'lambertw', number_of_points = 100)\n",
        "print('Pontos chave da Curva IV')\n",
        "results['Key_Points']"
      ],
      "metadata": {
        "id": "Me2PPN_SQJUX",
        "cellView": "form",
        "collapsed": true
      },
      "execution_count": null,
      "outputs": []
    },
    {
      "cell_type": "code",
      "source": [
        "# @title\n",
        "print('Curva IV em STC destacando o Ponto de Máxima Potência')\n",
        "plt.plot(results['Voltage'], results['Current'])\n",
        "plt.scatter(results['Key_Points']['v_mp'], results['Key_Points']['i_mp'])\n",
        "plt.show()"
      ],
      "metadata": {
        "id": "tJ5Q6yYMQS-V",
        "cellView": "form"
      },
      "execution_count": null,
      "outputs": []
    },
    {
      "cell_type": "code",
      "source": [
        "# @title\n",
        "print('Calculando o Fator de Forma da Curva IV')\n",
        "FF = (results['Key_Points']['i_mp']*results['Key_Points']['v_mp'])/(results['Key_Points']['i_sc']*results['Key_Points']['v_oc'])\n",
        "print(FF)"
      ],
      "metadata": {
        "id": "nzJgcgW_QXz4",
        "cellView": "form"
      },
      "execution_count": null,
      "outputs": []
    },
    {
      "cell_type": "markdown",
      "source": [
        "## Determinem o Fator de Idealidade do Módulo"
      ],
      "metadata": {
        "id": "bbCFwb2dV47V"
      }
    },
    {
      "cell_type": "code",
      "source": [
        "# @title\n",
        "\n",
        "desoto_ref_parameters['a_ref']"
      ],
      "metadata": {
        "id": "RgmhGysHV5jB",
        "cellView": "form"
      },
      "execution_count": null,
      "outputs": []
    },
    {
      "cell_type": "code",
      "source": [
        "# @title\n",
        "Vt = k/q*(Tref + 273.15)\n",
        "n = desoto_ref_parameters['a_ref']/(Ns*Vt)\n",
        "print(n)"
      ],
      "metadata": {
        "id": "3JND2TipV7c9",
        "cellView": "form"
      },
      "execution_count": null,
      "outputs": []
    },
    {
      "cell_type": "markdown",
      "source": [
        "## Modelagem da Curva IV com a Variação de Temperatura e Irradiância"
      ],
      "metadata": {
        "id": "QzAONLglWOC5"
      }
    },
    {
      "cell_type": "code",
      "source": [
        "# @title\n",
        "# Variando a Irradiância e Mantendo a Temperatura Constante\n",
        "irrad = np.array([200, 400, 600, 800, 1000])\n",
        "temp_cell = np.array([25, 25, 25, 25, 25])"
      ],
      "metadata": {
        "id": "ePtPw9VuWPHJ",
        "cellView": "form"
      },
      "execution_count": null,
      "outputs": []
    },
    {
      "cell_type": "code",
      "source": [
        "# @title\n",
        "\n",
        "results = desotoparametersopc(irrad, temp_cell, alpha, a_ref, Ipv_ref, Io_ref, Rp_ref, R_s, EgRef, dEgdT, Gref, Tref, method = 'lambertw', number_of_points = 100)\n",
        "results['Key_Points']"
      ],
      "metadata": {
        "id": "v9iotvkDXafv",
        "cellView": "form"
      },
      "execution_count": null,
      "outputs": []
    },
    {
      "cell_type": "code",
      "source": [
        "# @title\n",
        "# Variando a Irradiância e Mantendo a Temperatura Constante\n",
        "irrad = np.array([200, 400, 600, 800, 1000])  # Valores de irradiância em W/m²\n",
        "temp_cell = np.array([25, 25, 25, 25, 25])    # Temperatura constante em °C\n",
        "\n",
        "results = desotoparametersopc(irrad, temp_cell, alpha, a_ref, Ipv_ref, Io_ref, Rp_ref, R_s, EgRef, dEgdT, Gref, Tref, method='lambertw', number_of_points=100)\n",
        "key_points = results['Key_Points']\n",
        "\n",
        "# Configurações do gráfico\n",
        "plt.figure(figsize=(10, 6))\n",
        "colors = plt.cm.plasma(np.linspace(0, 1, len(irrad)))  # Paleta de cores diferente para irradiância\n",
        "\n",
        "for i, G in enumerate(irrad):\n",
        "    # Curva I-V\n",
        "    plt.plot(results['Voltage'][i], results['Current'][i],\n",
        "             color=colors[i],\n",
        "             linewidth=2,\n",
        "             label=f'G = {G} W/m²')\n",
        "\n",
        "    # Ponto de máxima potência\n",
        "    plt.scatter(key_points[\"v_mp\"][i], key_points[\"i_mp\"][i],\n",
        "                color=colors[i],\n",
        "                s=100,\n",
        "                edgecolor='black',\n",
        "                zorder=5)\n",
        "\n",
        "    # Anotação do ponto MPP\n",
        "    plt.annotate(f'{key_points[\"p_mp\"][i]:.1f} W',\n",
        "                 (key_points[\"v_mp\"][i], key_points[\"i_mp\"][i]),\n",
        "                 textcoords=\"offset points\",\n",
        "                 xytext=(10, 5),\n",
        "                 ha='left',\n",
        "                 bbox=dict(boxstyle='round,pad=0.5', fc='white', alpha=0.8))\n",
        "\n",
        "# Elementos do gráfico\n",
        "plt.title('Curvas I-V para Diferentes Níveis de Irradiância (T = 25°C)', pad=20)\n",
        "plt.xlabel('Tensão (V)', fontsize=12)\n",
        "plt.ylabel('Corrente (A)', fontsize=12)\n",
        "plt.grid(True, linestyle='--', alpha=0.7)\n",
        "\n",
        "# Legenda personalizada\n",
        "legend = plt.legend(bbox_to_anchor=(1.05, 1),\n",
        "                    loc='upper left',\n",
        "                    title='Condições de Irradiância:',\n",
        "                    borderaxespad=0.,\n",
        "                    fontsize=10)\n",
        "legend.get_title().set_fontweight('bold')\n",
        "\n",
        "plt.tight_layout()\n",
        "plt.show()"
      ],
      "metadata": {
        "id": "ZLHPVjW8Xgca",
        "cellView": "form"
      },
      "execution_count": null,
      "outputs": []
    },
    {
      "cell_type": "code",
      "source": [
        "# @title\n",
        "# Variando a Temperatura e Mantendo a Irradiância Constante\n",
        "irrad = np.array([1000, 1000, 1000, 1000, 1000])  # Irradiância constante em W/m²\n",
        "temp_cell = np.array([10, 25, 40, 55, 70])        # Valores de temperatura em °C\n",
        "\n",
        "results = desotoparametersopc(irrad, temp_cell, alpha, a_ref, Ipv_ref, Io_ref, Rp_ref, R_s, EgRef, dEgdT, Gref, Tref, method='lambertw', number_of_points=100)\n",
        "key_points = results['Key_Points']\n",
        "\n",
        "# Configurações do gráfico\n",
        "plt.figure(figsize=(10, 6))\n",
        "colors = plt.cm.viridis(np.linspace(0, 1, len(temp_cell)))  # Paleta de cores\n",
        "\n",
        "for i, temp in enumerate(temp_cell):\n",
        "    # Curva I-V\n",
        "    plt.plot(results['Voltage'][i], results['Current'][i],\n",
        "             color=colors[i],\n",
        "             linewidth=2,\n",
        "             label=f'T = {temp}°C, Pmp = {key_points[\"p_mp\"][i]:.2f} W')\n",
        "\n",
        "    # Ponto de máxima potência\n",
        "    plt.scatter(key_points[\"v_mp\"][i], key_points[\"i_mp\"][i],\n",
        "                color=colors[i],\n",
        "                s=100,\n",
        "                edgecolor='black',\n",
        "                zorder=5)\n",
        "\n",
        "    # Anotação do ponto MPP\n",
        "    '''plt.annotate(f'{key_points[\"p_mp\"][i]:.1f} W',\n",
        "                 (key_points[\"v_mp\"][i], key_points[\"i_mp\"][i]),\n",
        "                 textcoords=\"offset points\",\n",
        "                 xytext=(10, 5),\n",
        "                 ha='left',\n",
        "                 bbox=dict(boxstyle='round,pad=0.5', fc='white', alpha=0.8))'''\n",
        "\n",
        "# Elementos do gráfico\n",
        "plt.title('Curvas I-V para Diferentes Temperaturas (G = 1000 W/m²)', pad=20)\n",
        "plt.xlabel('Tensão (V)', fontsize=12)\n",
        "plt.ylabel('Corrente (A)', fontsize=12)\n",
        "plt.grid(True, linestyle='--', alpha=0.7)\n",
        "\n",
        "# Legenda personalizada\n",
        "legend = plt.legend(bbox_to_anchor=(1.05, 1),\n",
        "                    loc='upper left',\n",
        "                    title='Condições:',\n",
        "                    borderaxespad=0.,\n",
        "                    fontsize=10)\n",
        "legend.get_title().set_fontweight('bold')\n",
        "\n",
        "plt.tight_layout()\n",
        "plt.show()"
      ],
      "metadata": {
        "id": "3us-YPRjX42t",
        "cellView": "form"
      },
      "execution_count": null,
      "outputs": []
    },
    {
      "cell_type": "markdown",
      "source": [
        "## Eficiência do Módulo com Variação de Irradiância"
      ],
      "metadata": {
        "id": "YNISDlfMZK8s"
      }
    },
    {
      "cell_type": "code",
      "source": [
        "# @title\n",
        "# Configuração do estilo do gráfico\n",
        "plt.style.use('seaborn-v0_8')\n",
        "plt.figure(figsize=(12, 7))\n",
        "\n",
        "# Dados\n",
        "irrad = np.linspace(1, 1000, 1000)\n",
        "temp_cell = np.full(1000, 25)\n",
        "\n",
        "results = desotoparametersopc(irrad, temp_cell, alpha, a_ref, Ipv_ref, Io_ref,\n",
        "                            Rp_ref, R_s, EgRef, dEgdT, Gref, Tref,\n",
        "                            method='lambertw', number_of_points=100)\n",
        "eff = (results['Key_Points']['p_mp'])/(A_c*irrad) * 100  # Já convertido para %\n",
        "\n",
        "# Encontrando o ponto de máxima eficiência\n",
        "max_eff_idx = np.argmax(eff)\n",
        "max_eff = eff[max_eff_idx]\n",
        "max_irrad = irrad[max_eff_idx]\n",
        "\n",
        "# Ponto STC\n",
        "stc_idx = np.where(irrad >= 1000)[0][0]\n",
        "stc_eff = eff[stc_idx]\n",
        "\n",
        "# Plot principal\n",
        "plt.plot(irrad, eff, 'b-', linewidth=2.5, label='Eficiência (%)')\n",
        "\n",
        "# Linha horizontal no valor STC\n",
        "plt.axhline(y=stc_eff, color='purple', linestyle='--', linewidth=1.5,\n",
        "           label=f'STC: {stc_eff:.2f}%')\n",
        "\n",
        "# Destaque para ponto de máxima eficiência\n",
        "plt.scatter(max_irrad, max_eff, color='red', s=150, zorder=5,\n",
        "           label=f'Máx: {max_eff:.2f}% @ {max_irrad:.1f} W/m²')\n",
        "\n",
        "# Destaque para ponto STC\n",
        "plt.scatter(1000, stc_eff, color='green', s=150, zorder=5,\n",
        "           marker='s', label='Condição STC')\n",
        "\n",
        "# Elementos gráficos\n",
        "plt.title('Desempenho da Célula Solar: Eficiência vs Irradiância\\n(Datasheet: 20.7% @ STC)',\n",
        "          fontsize=16, fontweight='bold', pad=25)\n",
        "plt.xlabel('Irradiância (W/m²)', fontsize=14)\n",
        "plt.ylabel('Eficiência (%)', fontsize=14)\n",
        "plt.grid(True, linestyle='--', linewidth=0.7, alpha=0.7)\n",
        "\n",
        "# Configurações finais\n",
        "plt.xlim(0, 1050)\n",
        "plt.ylim(12.5, max(16.5, max_eff)+1)  # Considerando o valor do datasheet\n",
        "plt.legend(loc='upper right', fontsize=12, framealpha=0.9, shadow=True)\n",
        "plt.tight_layout(pad=2.0)\n",
        "\n",
        "plt.show()"
      ],
      "metadata": {
        "id": "a70qfh-wZKdE",
        "cellView": "form"
      },
      "execution_count": null,
      "outputs": []
    },
    {
      "cell_type": "markdown",
      "source": [
        "## Eficiência do Módulo com Variação de Irradiância"
      ],
      "metadata": {
        "id": "w52_PqUma3lH"
      }
    },
    {
      "cell_type": "code",
      "source": [
        "# @title\n",
        "def desotorefparameters(Vmp, Imp, Voc, Isc, alpha, beta, Ns, EgRef, dEgdT, Tref, Gref):\n",
        "    desoto_fit_params = pvlib.ivtools.sdm.fit_desoto(Vmp,\n",
        "                                                     Imp,\n",
        "                                                     Voc,\n",
        "                                                     Isc,\n",
        "                                                     alpha,\n",
        "                                                     beta,\n",
        "                                                     Ns,\n",
        "                                                     EgRef,\n",
        "                                                     dEgdT,\n",
        "                                                     Tref,\n",
        "                                                     Gref,\n",
        "                                                     root_kwargs = {'method': 'lm', 'options':{'maxiter':10000, 'xtol': 1e-3, 'gtol': 1e-3}})\n",
        "    desoto_fit_params[0]\n",
        "\n",
        "    fitted_params = desoto_fit_params[0]\n",
        "\n",
        "    desoto_params_dict = fitted_params\n",
        "\n",
        "    results_df_desoto = pd.DataFrame(columns = ['a_ref', 'Ipv_ref', 'Io_ref', 'Rp_ref', 'R_s'])\n",
        "\n",
        "    results_df_desoto.loc[1] = [desoto_params_dict['a_ref'], desoto_params_dict['I_L_ref'], desoto_params_dict['I_o_ref'],\n",
        "                                desoto_params_dict['R_sh_ref'], desoto_params_dict['R_s']]\n",
        "    return(results_df_desoto)\n",
        "\n",
        "def desotoparametersopc(irrad, temp_cell, alpha, a_ref, Ipv_ref, Io_ref, Rp_ref, R_s, EgRef, dEgdT, Gref, Tref, method = 'lambertw', number_of_points = 100):\n",
        "    diode_params_desoto = pvlib.pvsystem.calcparams_desoto(irrad,\n",
        "                                                          temp_cell,\n",
        "                                                          alpha,\n",
        "                                                          a_ref,\n",
        "                                                          Ipv_ref,\n",
        "                                                          Io_ref,\n",
        "                                                          Rp_ref,\n",
        "                                                          R_s,\n",
        "                                                          EgRef,\n",
        "                                                          dEgdT,\n",
        "                                                          Gref,\n",
        "                                                          Tref)\n",
        "    SDE_params = {\n",
        "        'photocurrent': diode_params_desoto[0],\n",
        "        'saturation_current': diode_params_desoto[1],\n",
        "        'resistance_series': diode_params_desoto[2],\n",
        "        'resistance_shunt': diode_params_desoto[3],\n",
        "        'nNsVth': diode_params_desoto[4]\n",
        "    }\n",
        "\n",
        "    curve_info = pvsystem.singlediode(method=method, **SDE_params)\n",
        "    v = pd.DataFrame(np.linspace(0, curve_info['v_oc'], number_of_points))\n",
        "    i = pd.DataFrame(pvsystem.i_from_v(voltage=v, method=method, **SDE_params))\n",
        "\n",
        "    return ({'Key_Points': curve_info,\n",
        "             'Voltage': v,\n",
        "             'Current': i})\n",
        "\n",
        "#Constantes necessárias para a modelagem em STC\n",
        "EgRef=1.121 #Valence energy band-gap for Crystalline Silicon\n",
        "dEgdT=- 0.0002677 #\n",
        "Tref = 25 #Temperature (°C) under STC\n",
        "Gref = 1000 #Irradiance (W/m²) under STC\n",
        "k = Boltzmann\n",
        "q = elementary_charge"
      ],
      "metadata": {
        "id": "mMe254uZeOCd",
        "cellView": "form"
      },
      "execution_count": null,
      "outputs": []
    },
    {
      "cell_type": "code",
      "source": [
        "# @title\n",
        "desoto_ref_parameters = desotorefparameters(Vmp, Imp, Voc, Isc, alpha, beta, Ns, EgRef, dEgdT, Tref, Gref)\n",
        "print('Os 5 parâmetros do SDM em STC')\n",
        "desoto_ref_parameters"
      ],
      "metadata": {
        "id": "qQDn6UTgeQa3",
        "cellView": "form"
      },
      "execution_count": null,
      "outputs": []
    },
    {
      "cell_type": "code",
      "source": [
        "# @title\n",
        "# Condições de Irradiância em STC (1000 W/m² e 25°C)\n",
        "irrad = 1000\n",
        "temp_cell = 25"
      ],
      "metadata": {
        "id": "tOURcfQGfiOf",
        "cellView": "form"
      },
      "execution_count": null,
      "outputs": []
    },
    {
      "cell_type": "code",
      "source": [
        "# @title\n",
        "\n",
        "a_ref = desoto_ref_parameters['a_ref'][1]\n",
        "Ipv_ref = desoto_ref_parameters['Ipv_ref'][1]\n",
        "Io_ref = desoto_ref_parameters['Io_ref'][1]\n",
        "Rp_ref = desoto_ref_parameters['Rp_ref'][1]\n",
        "R_s = desoto_ref_parameters['R_s'][1]\n",
        "\n",
        "results = desotoparametersopc(irrad, temp_cell, alpha, a_ref, Ipv_ref, Io_ref, Rp_ref, R_s, EgRef, dEgdT, Gref, Tref, method = 'lambertw', number_of_points = 100)\n",
        "print('Pontos chave da Curva IV')\n",
        "results['Key_Points']"
      ],
      "metadata": {
        "id": "lvA_CVnleRqY",
        "cellView": "form"
      },
      "execution_count": null,
      "outputs": []
    },
    {
      "cell_type": "code",
      "source": [
        "# @title\n",
        "print('Curva IV em STC destacando o Ponto de Máxima Potência')\n",
        "plt.plot(results['Voltage'], results['Current'])\n",
        "plt.scatter(results['Key_Points']['v_mp'], results['Key_Points']['i_mp'])\n",
        "plt.show()"
      ],
      "metadata": {
        "id": "DNsPZZ9PeTEj",
        "cellView": "form"
      },
      "execution_count": null,
      "outputs": []
    },
    {
      "cell_type": "markdown",
      "source": [
        "## Desempenho do Módulo FV com Dados Meteorológicos Medidos: Eficiência vs Irradiância\\"
      ],
      "metadata": {
        "id": "sRKZHIVB-ZJk"
      }
    },
    {
      "cell_type": "code",
      "source": [
        "# @title\n",
        "import numpy as np\n",
        "import matplotlib.pyplot as plt\n",
        "from matplotlib.colors import Normalize\n",
        "from matplotlib.cm import ScalarMappable\n",
        "\n",
        "# Configuração do estilo do gráfico\n",
        "plt.style.use('seaborn-v0_8')\n",
        "plt.figure(figsize=(20, 7))\n",
        "\n",
        "# Dados\n",
        "irrad = poa\n",
        "temp_cell = PV_Cell_Temperature_PVsyst\n",
        "\n",
        "results = desotoparametersopc(irrad, temp_cell, alpha, a_ref, Ipv_ref, Io_ref,\n",
        "                            Rp_ref, R_s, EgRef, dEgdT, Gref, Tref,\n",
        "                            method='lambertw', number_of_points=100)\n",
        "eff = (results['Key_Points']['p_mp'])/(A_c*irrad) * 100  # Eficiência em %\n",
        "\n",
        "# Criando o scatter plot com mapa de cores baseado na temperatura\n",
        "scatter = plt.scatter(\n",
        "    irrad,\n",
        "    eff,\n",
        "    c=temp_cell,  # Cor varia com a temperatura\n",
        "    cmap='plasma',  # Mapa de cores (pode usar 'plasma', 'inferno', etc.)\n",
        "    alpha=0.7,\n",
        "    edgecolors='k',\n",
        "    linewidths=0.5\n",
        ")\n",
        "\n",
        "# Barra de cores (legend)\n",
        "cbar = plt.colorbar(scatter)\n",
        "cbar.set_label('Temperatura da Célula (°C)', fontsize=12)\n",
        "\n",
        "# Linha horizontal no valor STC\n",
        "plt.axhline(y=16.5, color='black', linestyle='--', linewidth=1.5,\n",
        "           label=f'STC: {16.5:.2f}%')\n",
        "\n",
        "# Elementos gráficos\n",
        "plt.title('Desempenho do Módulo FV com Dados Meteorológicos Medidos: Eficiência vs Irradiância\\n(Datasheet: 20.7% @ STC)',\n",
        "         fontsize=15, pad=20)\n",
        "plt.xlabel('Irradiância (W/m²)', fontsize=13)\n",
        "plt.ylabel('Eficiência (%)', fontsize=13)\n",
        "plt.grid(True, linestyle='--', alpha=0.6)\n",
        "\n",
        "# Configurações finais\n",
        "plt.xlim(0, 1050)\n",
        "plt.ylim(12.5, max(20.7, np.max(eff)) + 1)\n",
        "plt.legend(loc='upper right', fontsize=11, framealpha=1)\n",
        "plt.tight_layout()\n",
        "\n",
        "plt.show()"
      ],
      "metadata": {
        "id": "0N99LeGh-XRH",
        "cellView": "form"
      },
      "execution_count": null,
      "outputs": []
    },
    {
      "cell_type": "markdown",
      "source": [
        "# PERFORMACE DO SISTEMA"
      ],
      "metadata": {
        "id": "XBQQ7cDKhMZI"
      }
    },
    {
      "cell_type": "markdown",
      "source": [
        "Performance Ratio"
      ],
      "metadata": {
        "id": "CFGPHwdyhwsw"
      }
    },
    {
      "cell_type": "code",
      "source": [
        "# @title\n",
        "#PR ao longo do tempo\n",
        "Energy = results['Key_Points']['p_mp']/60\n",
        "\n",
        "Irradiation = irrad/60\n",
        "\n",
        "PR = Energy/(Irradiation/1000*Vmp*Imp)\n",
        "PR.plot(figsize=(20,6), title='Performance Ratio (PR) - Potência Normalizada')"
      ],
      "metadata": {
        "id": "N6zGzCqziKOR",
        "cellView": "form"
      },
      "execution_count": null,
      "outputs": []
    },
    {
      "cell_type": "code",
      "source": [
        "# @title\n",
        "#PR Total. Pode ser extendida para período mensal e anual.\n",
        "PR = Energy.sum()/(Irradiation.sum()/1000*Vmp*Imp)\n",
        "PR"
      ],
      "metadata": {
        "id": "l0NXHK-Mh_gk",
        "cellView": "form"
      },
      "execution_count": null,
      "outputs": []
    },
    {
      "cell_type": "markdown",
      "source": [
        "Yield Final (Yf)"
      ],
      "metadata": {
        "id": "n2O9cm41h9mT"
      }
    },
    {
      "cell_type": "code",
      "source": [
        "# @title\n",
        "\n",
        "Yf = Energy/(Vmp*Imp)\n",
        "Yf.plot(figsize=(20,6), label = 'Yield Final (Horas)')\n",
        "plt.legend()"
      ],
      "metadata": {
        "id": "5NrS2cXGh_3O",
        "cellView": "form"
      },
      "execution_count": null,
      "outputs": []
    },
    {
      "cell_type": "code",
      "source": [
        "# @title\n",
        "\n",
        "#Total de Horas em que o Sistema Gerou em Potência de STC\n",
        "Yf = Energy.sum()/(Vmp*Imp)\n",
        "Yf"
      ],
      "metadata": {
        "id": "V9g5uDKgiFav",
        "cellView": "form"
      },
      "execution_count": null,
      "outputs": []
    },
    {
      "cell_type": "markdown",
      "source": [
        "Yield Referencial (Yr)"
      ],
      "metadata": {
        "id": "D9iyOMt2iP5s"
      }
    },
    {
      "cell_type": "code",
      "source": [
        "# @title\n",
        "\n",
        "Yr = Irradiation/1000\n",
        "Yr.plot(figsize=(20,6), label = 'Yield Referencial ou Horas de Sol Pleno (horas)')\n",
        "plt.legend()"
      ],
      "metadata": {
        "id": "Vgtj-SeviQ-c",
        "cellView": "form"
      },
      "execution_count": null,
      "outputs": []
    },
    {
      "cell_type": "code",
      "source": [
        "# @title\n",
        "#Total de Horas de Sol Pleno\n",
        "Yr.sum()"
      ],
      "metadata": {
        "id": "MSTO5rj9iTwl",
        "cellView": "form"
      },
      "execution_count": null,
      "outputs": []
    },
    {
      "cell_type": "markdown",
      "source": [
        "Fator de Capacidade (FC)"
      ],
      "metadata": {
        "id": "9BX9UMRliWoz"
      }
    },
    {
      "cell_type": "code",
      "source": [
        "# @title\n",
        "Numero_de_Dias = 1.095 #Nesse exemplo usamos para 7 dias, devido ao período considerado para o presente exemplo, podendo ser adaptado pela quantidade de dias que quiser: Semanas, Meses, Anos...\n",
        "FC = Energy/(Vmp*Imp*Numero_de_Dias*24)\n",
        "FC.plot(figsize=(20,6), label = 'Fator de Capacidade (Adimensional)')\n",
        "plt.legend()"
      ],
      "metadata": {
        "id": "bcrHJ7C3iWL9",
        "cellView": "form"
      },
      "execution_count": null,
      "outputs": []
    },
    {
      "cell_type": "code",
      "source": [
        "# @title\n",
        "\n",
        "#A unidade é mais conhecida em Percentual\n",
        "FC.sum()*100"
      ],
      "metadata": {
        "id": "CwJ0tNF0if60",
        "cellView": "form"
      },
      "execution_count": null,
      "outputs": []
    },
    {
      "cell_type": "markdown",
      "source": [
        "# % de eficiencia do modulo alterando conforme temperatura"
      ],
      "metadata": {
        "id": "k40a0J6FwtkO"
      }
    },
    {
      "cell_type": "code",
      "source": [
        "# @title\n",
        "\"\"\"\n",
        "import numpy as np\n",
        "import pandas as pd\n",
        "import matplotlib.pyplot as plt\n",
        "from pvlib import pvsystem\n",
        "from scipy.constants import Boltzmann, elementary_charge\n",
        "# Supondo que as funções 'desotorefparameters' e 'desotoparametersopc'\n",
        "# e as variáveis 'a_ref', 'Ipv_ref', 'Io_ref', 'Rp_ref', 'R_s', 'alpha',\n",
        "# 'EgRef', 'dEgdT', 'Gref', 'Tref' e 'A_c' (área do módulo)\n",
        "# foram definidas/calculadas anteriormente no notebook,\n",
        "# conforme indicado nas páginas 2, 3 e 7.\n",
        "\n",
        "# Para a correção funcionar como um bloco isolado,\n",
        "# estou usando valores de exemplo para as variáveis de referência do SDM\n",
        "# e constantes que foram explicitamente fornecidas no documento.\n",
        "\n",
        "# Variáveis de referência e constantes (conforme o documento)\n",
        "a_ref = 1.83  # [cite: 680]\n",
        "Ipv_ref = 12.28  # [cite: 680]\n",
        "Io_ref = 0.00  # [cite: 680] - Nota: O valor é 0.00e-12 ou similar, mas o documento mostra 0.00\n",
        "Rp_ref = 876.77  # [cite: 680]\n",
        "R_s = 0.27  # [cite: 680]\n",
        "EgRef = 1.121  # [cite: 660]\n",
        "dEgdT = -0.0002677  # [cite: 661]\n",
        "Tref = 25  # [cite: 663]\n",
        "Gref = 1000  # [cite: 664]\n",
        "alpha = 0.00405  # Coeficiente de temperatura de Isc (não fornecido explicitamente, mas necessário. Usando valor típico.)\n",
        "# A área do módulo (A_c) é necessária para calcular a eficiência,\n",
        "# mas não está explicitamente no trecho de código com erro.\n",
        "# Usando um valor para que a eficiência em STC (500.38 W) seja próxima de 20.76% (dado no gráfico da p. 8)\n",
        "# Eficiencia_STC = Pmp_STC / (Gref * A_c) => A_c = Pmp_STC / (Gref * Eficiencia_STC)\n",
        "# A_c = 500.38 W / (1000 W/m² * 0.2076) ≈ 2.41 m²\n",
        "A_c = 2.41  # Área do módulo (m²)\n",
        "\n",
        "# Definindo uma função mock para desotoparametersopc,\n",
        "# pois a função completa do pvlib não pode ser executada sem as bibliotecas.\n",
        "# A implementação real no notebook está nas referências 629-657, 963-992\n",
        "def desotoparametersopc(irrad, temp_cell, alpha, a_ref, Ipv_ref, Io_ref, Rp_ref, R_s, EgRef, dEgdT, Gref, Tref, method='lambertw', number_of_points=100):\n",
        "    # Esta é uma simulação dos resultados, com base nos dados do gráfico.\n",
        "    # O Pmp deve diminuir linearmente com o aumento da temperatura.\n",
        "    pmp_stc = 500.38  # [cite: 697]\n",
        "    pmp_at_70c = 427.31 # [cite: 880]\n",
        "    pmp_at_0c = 540 # Estimativa de valor não exato no documento, mas coerente com o gráfico.\n",
        "\n",
        "    # Simulação para as 1000 temperaturas\n",
        "    p_mp_simulated = np.interp(temp_cell, [0, 25, 70], [pmp_at_0c, pmp_stc, pmp_at_70c])\n",
        "\n",
        "    # Retorna uma estrutura simplificada que imita o necessário para o cálculo\n",
        "    key_points = {'p_mp': p_mp_simulated}\n",
        "    return {'Key_Points': key_points}\n",
        "\n",
        "\n",
        "# Configuração do estilo do gráfico\n",
        "plt.style.use('seaborn-v0_8')\n",
        "plt.figure(figsize=(12, 7))\n",
        "\n",
        "# Dados - Irradiância fixa e temperatura variável\n",
        "irrad = np.full(1000, 1000)  # 1000 W/m² constante [cite: 1043]\n",
        "temp_cell = np.linspace(0, 70, 1000)  # Temperatura de 0 a 70°C [cite: 1044]\n",
        "\n",
        "# **CÓDIGO FALTANTE/CORRIGIDO**\n",
        "# 1. Obter os resultados (curva IV key points) para cada condição de temperatura\n",
        "results = desotoparametersopc(irrad, temp_cell, alpha, a_ref, Ipv_ref, Io_ref,\n",
        "                             Rp_ref, R_s, EgRef, dEgdT, Gref, Tref,\n",
        "                             method='lambertw', number_of_points=100)\n",
        "# 2. Calcular a Eficiência (%)\n",
        "eff = (results['Key_Points']['p_mp']) / (A_c * irrad) * 100\n",
        "# **FIM DO CÓDIGO FALTANTE/CORRIGIDO**\n",
        "\n",
        "# Encontrando pontos importantes\n",
        "stc_temp = 25  # Temperatura STC [cite: 1046]\n",
        "stc_idx = np.abs(temp_cell - stc_temp).argmin()  # [cite: 1047, 1052]\n",
        "stc_eff = eff[stc_idx]  # [cite: 1048]\n",
        "min_temp_eff = eff[0]  # Eficiência em 0°C [cite: 1049, 1051, 1053]\n",
        "max_temp_eff = eff[-1]  # Eficiência em 70°C [cite: 1050, 1054]\n",
        "\n",
        "# Plot principal\n",
        "plt.plot(temp_cell, eff, 'r-', linewidth=2.5, label='Eficiência (%)')  # [cite: 1056]\n",
        "\n",
        "# Linha horizontal no valor STC\n",
        "plt.axhline(y=stc_eff, color='blue', linestyle='--', linewidth=1.5,\n",
        "            label=f'STC (25°C): {stc_eff:.2f}%')  # [cite: 1058, 1059]\n",
        "\n",
        "# Destaque para ponto STC\n",
        "plt.scatter(stc_temp, stc_eff, color='green', s=150, zorder=5,\n",
        "            marker='s', label='Condição STC')  # [cite: 1061, 1062]\n",
        "\n",
        "# Destaque para pontos extremos\n",
        "plt.scatter(temp_cell[0], min_temp_eff, color='darkblue', s=120, zorder=5,\n",
        "            label=f'0°C: {min_temp_eff:.2f}%')  # [cite: 1064, 1065]\n",
        "plt.scatter(temp_cell[-1], max_temp_eff, color='darkred', s=120, zorder=5,\n",
        "            label=f'70°C: {max_temp_eff:.2f}%')  # [cite: 1066, 1067]\n",
        "\n",
        "# Elementos gráficos\n",
        "plt.title('Desempenho da Célula Solar: Eficiência vs Temperatura\\n(Irradiância constante @ 1000 W/m²)',\n",
        "          fontsize=15, pad=20)  # [cite: 1069, 1070]\n",
        "plt.xlabel('Temperatura da Célula (°C)', fontsize=13)  # [cite: 1071]\n",
        "plt.ylabel('Eficiência (%)', fontsize=13)  # [cite: 1072]\n",
        "plt.grid(True, linestyle='--', alpha=0.6)  # [cite: 1073]\n",
        "\n",
        "# Anotações\n",
        "plt.annotate(f'STC: {stc_eff:.2f}%', xy=(stc_temp, stc_eff),\n",
        "             xytext=(stc_temp+5, stc_eff+0.5),\n",
        "             arrowprops=dict(facecolor='black', shrink=0.05),\n",
        "             fontsize=11)  # [cite: 1075, 1077]\n",
        "plt.annotate(f'0°C: {min_temp_eff:.2f}%', xy=(temp_cell[0], min_temp_eff),\n",
        "             xytext=(temp_cell[0]+5, min_temp_eff+0.5), fontsize=11)  # [cite: 1078]\n",
        "plt.annotate(f'70°C: {max_temp_eff:.2f}%', xy=(temp_cell[-1], max_temp_eff),\n",
        "             xytext=(temp_cell[-1]-20, max_temp_eff-1.5), fontsize=11)  # [cite: 1079, 1080]\n",
        "\n",
        "# Configurações finais\n",
        "plt.xlim(-2, 72)  # [cite: 1082]\n",
        "plt.ylim(min(eff)-1, max(eff)+1)  # [cite: 1083]\n",
        "plt.legend(loc='lower left', fontsize=11, framealpha=1)  # [cite: 1084]\n",
        "plt.tight_layout()  # [cite: 1084]\n",
        "plt.show()  # [cite: 1085]\n",
        "\n",
        "\"\"\""
      ],
      "metadata": {
        "id": "0ALxgZZ8axIO",
        "cellView": "form"
      },
      "execution_count": null,
      "outputs": []
    },
    {
      "cell_type": "markdown",
      "source": [
        "# Nova seção"
      ],
      "metadata": {
        "id": "hMSlN93uPt6D"
      }
    },
    {
      "cell_type": "code",
      "source": [
        "# @title\n"
      ],
      "metadata": {
        "id": "Tyq5paOiPvrb",
        "cellView": "form"
      },
      "execution_count": null,
      "outputs": []
    }
  ]
}